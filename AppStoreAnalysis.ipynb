{
  "nbformat": 4,
  "nbformat_minor": 0,
  "metadata": {
    "colab": {
      "name": "AppStoreAnalysis.ipynb",
      "provenance": [],
      "authorship_tag": "ABX9TyNNEPpaxhpQf+Ifvk3SvEAy",
      "include_colab_link": true
    },
    "kernelspec": {
      "display_name": "Python 3",
      "name": "python3"
    }
  },
  "cells": [
    {
      "cell_type": "markdown",
      "metadata": {
        "id": "view-in-github",
        "colab_type": "text"
      },
      "source": [
        "<a href=\"https://colab.research.google.com/github/alexrafkin/play_store_analysis/blob/main/AppStoreAnalysis.ipynb\" target=\"_parent\"><img src=\"https://colab.research.google.com/assets/colab-badge.svg\" alt=\"Open In Colab\"/></a>"
      ]
    },
    {
      "cell_type": "markdown",
      "metadata": {
        "id": "Nf55dGI9D6xo"
      },
      "source": [
        "# Introduction"
      ]
    },
    {
      "cell_type": "markdown",
      "metadata": {
        "id": "I8G9Zda3D-Yl"
      },
      "source": [
        "As something we interact with everyday, the app market is a direct reflection of our needs and inclinations. Whether you are a tech company which wants to develop a new app, or just trying to tap into which way the app market is trending, analyzing Google Play Store data is a great place to start."
      ]
    },
    {
      "cell_type": "markdown",
      "metadata": {
        "id": "ImaAK3nMEaUb"
      },
      "source": [
        "In this project, I am tackling a data set which catalogues over 10,000 apps on the Google Play Store. For each app, the dataset has information on the name, category, overall rating, number of reviews, install count range, size of the app, the cost of the app, the content rating, the genre, the last time it was updated, current version, and android compatibility.\n"
      ]
    },
    {
      "cell_type": "markdown",
      "metadata": {
        "id": "ZyozT2_cEino"
      },
      "source": [
        "There are certainly groups of apps which do better than others, but which are they? To what extent are they beating their competitors? My main goal in this project is to assess app success depending on a few varying factors: Category, Content Rating, and App Type (free or paid). I plan on using four main indicators of success: Overall Rating, Reviews, Installs, and a ratio of Reviews per Install, which I will call RPI. I believe that by doing this analysis, I will find a particular app Category, Content Rating, and Type which statistically stands out in terms of its success."
      ]
    },
    {
      "cell_type": "markdown",
      "metadata": {
        "id": "yk7WETTh_uF1"
      },
      "source": [
        "# Null and Alternate Hypotheses"
      ]
    },
    {
      "cell_type": "markdown",
      "metadata": {
        "id": "t0r3HAI8C3dC"
      },
      "source": [
        "*H$_{_0}$*: For ratings, reviews, installs, and RPI, there are no app categories, content ratings, or types which succeed a statistically significant amount more than all other apps.\n",
        "\n",
        "*H$_{_A}$*: For ratings, reviews, installs, and RPI, there is a particular app category, content rating, and type which succeeds a statistically significant amount more than all other apps."
      ]
    },
    {
      "cell_type": "markdown",
      "metadata": {
        "id": "AYcZewvsnBpG"
      },
      "source": [
        "# Accessing and Cleaning the Data"
      ]
    },
    {
      "cell_type": "code",
      "metadata": {
        "colab": {
          "base_uri": "https://localhost:8080/"
        },
        "id": "yhOm92ntgWxo",
        "outputId": "1ede9fa7-6c98-48ef-d9b4-837add8a870b"
      },
      "source": [
        "import math\n",
        "import random\n",
        "import statistics\n",
        "import pandas as pd\n",
        "import numpy as np\n",
        "from scipy import stats\n",
        "import scipy\n",
        "import matplotlib.pyplot as plt\n",
        "import seaborn as sns \n",
        "sns.set()\n",
        "import warnings\n",
        "warnings.filterwarnings(\"ignore\")\n",
        "\n",
        "url = 'https://drive.google.com/file/d/19NY7Pgc9hH9Z69GpIvHySd1YrFj9i7We/view?usp=sharing'\n",
        "path = 'https://drive.google.com/uc?export=download&id='+url.split('/')[-2]\n",
        "apps = pd.read_csv(path)\n",
        "apps.info()"
      ],
      "execution_count": null,
      "outputs": [
        {
          "output_type": "stream",
          "text": [
            "<class 'pandas.core.frame.DataFrame'>\n",
            "RangeIndex: 10841 entries, 0 to 10840\n",
            "Data columns (total 13 columns):\n",
            " #   Column          Non-Null Count  Dtype  \n",
            "---  ------          --------------  -----  \n",
            " 0   App             10841 non-null  object \n",
            " 1   Category        10841 non-null  object \n",
            " 2   Rating          9367 non-null   float64\n",
            " 3   Reviews         10841 non-null  object \n",
            " 4   Size            10841 non-null  object \n",
            " 5   Installs        10841 non-null  object \n",
            " 6   Type            10840 non-null  object \n",
            " 7   Price           10841 non-null  object \n",
            " 8   Content Rating  10840 non-null  object \n",
            " 9   Genres          10841 non-null  object \n",
            " 10  Last Updated    10841 non-null  object \n",
            " 11  Current Ver     10833 non-null  object \n",
            " 12  Android Ver     10838 non-null  object \n",
            "dtypes: float64(1), object(12)\n",
            "memory usage: 1.1+ MB\n"
          ],
          "name": "stdout"
        }
      ]
    },
    {
      "cell_type": "code",
      "metadata": {
        "colab": {
          "base_uri": "https://localhost:8080/"
        },
        "id": "_6f47DZwlYfw",
        "outputId": "f82c89d6-2ecc-4797-d646-102a6e17100e"
      },
      "source": [
        "print(apps.iloc[10472])\n",
        "print(len(apps))\n",
        "apps = apps.drop(index=apps.index[10472])\n",
        "print(apps.iloc[10472])\n",
        "print(len(apps))\n",
        "\n",
        "#This is to get rid of one app with errors in the data."
      ],
      "execution_count": null,
      "outputs": [
        {
          "output_type": "stream",
          "text": [
            "App               Life Made WI-Fi Touchscreen Photo Frame\n",
            "Category                                              1.9\n",
            "Rating                                                 19\n",
            "Reviews                                              3.0M\n",
            "Size                                               1,000+\n",
            "Installs                                             Free\n",
            "Type                                                    0\n",
            "Price                                            Everyone\n",
            "Content Rating                                        NaN\n",
            "Genres                                  February 11, 2018\n",
            "Last Updated                                       1.0.19\n",
            "Current Ver                                    4.0 and up\n",
            "Android Ver                                           NaN\n",
            "Name: 10472, dtype: object\n",
            "10841\n",
            "App               osmino Wi-Fi: free WiFi\n",
            "Category                            TOOLS\n",
            "Rating                                4.2\n",
            "Reviews                            134203\n",
            "Size                                 4.1M\n",
            "Installs                      10,000,000+\n",
            "Type                                 Free\n",
            "Price                                   0\n",
            "Content Rating                   Everyone\n",
            "Genres                              Tools\n",
            "Last Updated               August 7, 2018\n",
            "Current Ver                       6.06.14\n",
            "Android Ver                    4.4 and up\n",
            "Name: 10473, dtype: object\n",
            "10840\n"
          ],
          "name": "stdout"
        }
      ]
    },
    {
      "cell_type": "code",
      "metadata": {
        "colab": {
          "base_uri": "https://localhost:8080/",
          "height": 204
        },
        "id": "lvZca5mAxxtn",
        "outputId": "27e82976-48c1-4604-da99-b11938f9e38f"
      },
      "source": [
        "apps = apps.drop(['Last Updated', 'Current Ver', 'Android Ver', 'Size', 'Genres','Price'], axis=1)\n",
        "apps.head()\n",
        "\n",
        "#Getting rid of the data we don't need to use for our analysis"
      ],
      "execution_count": null,
      "outputs": [
        {
          "output_type": "execute_result",
          "data": {
            "text/html": [
              "<div>\n",
              "<style scoped>\n",
              "    .dataframe tbody tr th:only-of-type {\n",
              "        vertical-align: middle;\n",
              "    }\n",
              "\n",
              "    .dataframe tbody tr th {\n",
              "        vertical-align: top;\n",
              "    }\n",
              "\n",
              "    .dataframe thead th {\n",
              "        text-align: right;\n",
              "    }\n",
              "</style>\n",
              "<table border=\"1\" class=\"dataframe\">\n",
              "  <thead>\n",
              "    <tr style=\"text-align: right;\">\n",
              "      <th></th>\n",
              "      <th>App</th>\n",
              "      <th>Category</th>\n",
              "      <th>Rating</th>\n",
              "      <th>Reviews</th>\n",
              "      <th>Installs</th>\n",
              "      <th>Type</th>\n",
              "      <th>Content Rating</th>\n",
              "    </tr>\n",
              "  </thead>\n",
              "  <tbody>\n",
              "    <tr>\n",
              "      <th>0</th>\n",
              "      <td>Photo Editor &amp; Candy Camera &amp; Grid &amp; ScrapBook</td>\n",
              "      <td>ART_AND_DESIGN</td>\n",
              "      <td>4.1</td>\n",
              "      <td>159</td>\n",
              "      <td>10,000+</td>\n",
              "      <td>Free</td>\n",
              "      <td>Everyone</td>\n",
              "    </tr>\n",
              "    <tr>\n",
              "      <th>1</th>\n",
              "      <td>Coloring book moana</td>\n",
              "      <td>ART_AND_DESIGN</td>\n",
              "      <td>3.9</td>\n",
              "      <td>967</td>\n",
              "      <td>500,000+</td>\n",
              "      <td>Free</td>\n",
              "      <td>Everyone</td>\n",
              "    </tr>\n",
              "    <tr>\n",
              "      <th>2</th>\n",
              "      <td>U Launcher Lite – FREE Live Cool Themes, Hide ...</td>\n",
              "      <td>ART_AND_DESIGN</td>\n",
              "      <td>4.7</td>\n",
              "      <td>87510</td>\n",
              "      <td>5,000,000+</td>\n",
              "      <td>Free</td>\n",
              "      <td>Everyone</td>\n",
              "    </tr>\n",
              "    <tr>\n",
              "      <th>3</th>\n",
              "      <td>Sketch - Draw &amp; Paint</td>\n",
              "      <td>ART_AND_DESIGN</td>\n",
              "      <td>4.5</td>\n",
              "      <td>215644</td>\n",
              "      <td>50,000,000+</td>\n",
              "      <td>Free</td>\n",
              "      <td>Teen</td>\n",
              "    </tr>\n",
              "    <tr>\n",
              "      <th>4</th>\n",
              "      <td>Pixel Draw - Number Art Coloring Book</td>\n",
              "      <td>ART_AND_DESIGN</td>\n",
              "      <td>4.3</td>\n",
              "      <td>967</td>\n",
              "      <td>100,000+</td>\n",
              "      <td>Free</td>\n",
              "      <td>Everyone</td>\n",
              "    </tr>\n",
              "  </tbody>\n",
              "</table>\n",
              "</div>"
            ],
            "text/plain": [
              "                                                 App  ... Content Rating\n",
              "0     Photo Editor & Candy Camera & Grid & ScrapBook  ...       Everyone\n",
              "1                                Coloring book moana  ...       Everyone\n",
              "2  U Launcher Lite – FREE Live Cool Themes, Hide ...  ...       Everyone\n",
              "3                              Sketch - Draw & Paint  ...           Teen\n",
              "4              Pixel Draw - Number Art Coloring Book  ...       Everyone\n",
              "\n",
              "[5 rows x 7 columns]"
            ]
          },
          "metadata": {
            "tags": []
          },
          "execution_count": 3
        }
      ]
    },
    {
      "cell_type": "code",
      "metadata": {
        "colab": {
          "base_uri": "https://localhost:8080/"
        },
        "id": "o0vhBNEPgeY6",
        "outputId": "16d446c0-a2c7-4c80-e3b3-ba2726979741"
      },
      "source": [
        "apps = apps.dropna()\n",
        "apps.info()\n",
        "\n",
        "#There are a lot of missing rating inputs, we want to make sure that doesn't skew the data"
      ],
      "execution_count": null,
      "outputs": [
        {
          "output_type": "stream",
          "text": [
            "<class 'pandas.core.frame.DataFrame'>\n",
            "Int64Index: 9366 entries, 0 to 10840\n",
            "Data columns (total 7 columns):\n",
            " #   Column          Non-Null Count  Dtype  \n",
            "---  ------          --------------  -----  \n",
            " 0   App             9366 non-null   object \n",
            " 1   Category        9366 non-null   object \n",
            " 2   Rating          9366 non-null   float64\n",
            " 3   Reviews         9366 non-null   object \n",
            " 4   Installs        9366 non-null   object \n",
            " 5   Type            9366 non-null   object \n",
            " 6   Content Rating  9366 non-null   object \n",
            "dtypes: float64(1), object(6)\n",
            "memory usage: 585.4+ KB\n"
          ],
          "name": "stdout"
        }
      ]
    },
    {
      "cell_type": "code",
      "metadata": {
        "colab": {
          "base_uri": "https://localhost:8080/",
          "height": 204
        },
        "id": "mqQs4cwusjDV",
        "outputId": "478d16ee-d0b0-4ae4-9464-b68041955a85"
      },
      "source": [
        "def fix_installs(string):\n",
        "  num_only = filter(str.isdigit, string)\n",
        "  installs = int(\"\".join(num_only))\n",
        "  return installs\n",
        "  \n",
        "for index in apps.index:\n",
        "  apps.loc[index,'Installs'] = fix_installs(apps.loc[index,'Installs'])\n",
        "\n",
        "apps.head()\n",
        "#This is to fix the install count, rounding down to the minimum of its inital range and turning it into an int rather than a string"
      ],
      "execution_count": null,
      "outputs": [
        {
          "output_type": "execute_result",
          "data": {
            "text/html": [
              "<div>\n",
              "<style scoped>\n",
              "    .dataframe tbody tr th:only-of-type {\n",
              "        vertical-align: middle;\n",
              "    }\n",
              "\n",
              "    .dataframe tbody tr th {\n",
              "        vertical-align: top;\n",
              "    }\n",
              "\n",
              "    .dataframe thead th {\n",
              "        text-align: right;\n",
              "    }\n",
              "</style>\n",
              "<table border=\"1\" class=\"dataframe\">\n",
              "  <thead>\n",
              "    <tr style=\"text-align: right;\">\n",
              "      <th></th>\n",
              "      <th>App</th>\n",
              "      <th>Category</th>\n",
              "      <th>Rating</th>\n",
              "      <th>Reviews</th>\n",
              "      <th>Installs</th>\n",
              "      <th>Type</th>\n",
              "      <th>Content Rating</th>\n",
              "    </tr>\n",
              "  </thead>\n",
              "  <tbody>\n",
              "    <tr>\n",
              "      <th>0</th>\n",
              "      <td>Photo Editor &amp; Candy Camera &amp; Grid &amp; ScrapBook</td>\n",
              "      <td>ART_AND_DESIGN</td>\n",
              "      <td>4.1</td>\n",
              "      <td>159</td>\n",
              "      <td>10000</td>\n",
              "      <td>Free</td>\n",
              "      <td>Everyone</td>\n",
              "    </tr>\n",
              "    <tr>\n",
              "      <th>1</th>\n",
              "      <td>Coloring book moana</td>\n",
              "      <td>ART_AND_DESIGN</td>\n",
              "      <td>3.9</td>\n",
              "      <td>967</td>\n",
              "      <td>500000</td>\n",
              "      <td>Free</td>\n",
              "      <td>Everyone</td>\n",
              "    </tr>\n",
              "    <tr>\n",
              "      <th>2</th>\n",
              "      <td>U Launcher Lite – FREE Live Cool Themes, Hide ...</td>\n",
              "      <td>ART_AND_DESIGN</td>\n",
              "      <td>4.7</td>\n",
              "      <td>87510</td>\n",
              "      <td>5000000</td>\n",
              "      <td>Free</td>\n",
              "      <td>Everyone</td>\n",
              "    </tr>\n",
              "    <tr>\n",
              "      <th>3</th>\n",
              "      <td>Sketch - Draw &amp; Paint</td>\n",
              "      <td>ART_AND_DESIGN</td>\n",
              "      <td>4.5</td>\n",
              "      <td>215644</td>\n",
              "      <td>50000000</td>\n",
              "      <td>Free</td>\n",
              "      <td>Teen</td>\n",
              "    </tr>\n",
              "    <tr>\n",
              "      <th>4</th>\n",
              "      <td>Pixel Draw - Number Art Coloring Book</td>\n",
              "      <td>ART_AND_DESIGN</td>\n",
              "      <td>4.3</td>\n",
              "      <td>967</td>\n",
              "      <td>100000</td>\n",
              "      <td>Free</td>\n",
              "      <td>Everyone</td>\n",
              "    </tr>\n",
              "  </tbody>\n",
              "</table>\n",
              "</div>"
            ],
            "text/plain": [
              "                                                 App  ... Content Rating\n",
              "0     Photo Editor & Candy Camera & Grid & ScrapBook  ...       Everyone\n",
              "1                                Coloring book moana  ...       Everyone\n",
              "2  U Launcher Lite – FREE Live Cool Themes, Hide ...  ...       Everyone\n",
              "3                              Sketch - Draw & Paint  ...           Teen\n",
              "4              Pixel Draw - Number Art Coloring Book  ...       Everyone\n",
              "\n",
              "[5 rows x 7 columns]"
            ]
          },
          "metadata": {
            "tags": []
          },
          "execution_count": 5
        }
      ]
    },
    {
      "cell_type": "code",
      "metadata": {
        "colab": {
          "base_uri": "https://localhost:8080/"
        },
        "id": "wruCV7Fzzp9e",
        "outputId": "f6e787e6-01fa-4b7b-ca83-8e6e5c43f8a9"
      },
      "source": [
        "for index in apps.index:\n",
        "  apps.loc[index,'Reviews'] = int(apps.loc[index,'Reviews'])\n",
        "  apps.loc[index,'R'] = apps.loc[index,'Reviews']\n",
        "  apps.loc[index,'I'] = apps.loc[index,'Installs']\n",
        "  apps.loc[index,'RPI'] = (apps.loc[index,'Reviews'])/apps.loc[index, 'Installs']\n",
        "  \n",
        "apps = apps.drop(['Reviews', 'Installs'], axis=1)\n",
        "apps = apps.rename(columns={'R': 'Reviews', 'I': 'Installs'})\n",
        "apps = apps[['App', 'Category', 'Content Rating', 'Type', 'Rating', 'Reviews', 'Installs', 'RPI']]\n",
        "apps.head()\n",
        "\n",
        "#This creates the RPI column, as well as fixing making Reviews and Installs workable floats."
      ],
      "execution_count": null,
      "outputs": [
        {
          "output_type": "execute_result",
          "data": {
            "text/html": [
              "<div>\n",
              "<style scoped>\n",
              "    .dataframe tbody tr th:only-of-type {\n",
              "        vertical-align: middle;\n",
              "    }\n",
              "\n",
              "    .dataframe tbody tr th {\n",
              "        vertical-align: top;\n",
              "    }\n",
              "\n",
              "    .dataframe thead th {\n",
              "        text-align: right;\n",
              "    }\n",
              "</style>\n",
              "<table border=\"1\" class=\"dataframe\">\n",
              "  <thead>\n",
              "    <tr style=\"text-align: right;\">\n",
              "      <th></th>\n",
              "      <th>App</th>\n",
              "      <th>Category</th>\n",
              "      <th>Content Rating</th>\n",
              "      <th>Type</th>\n",
              "      <th>Rating</th>\n",
              "      <th>Reviews</th>\n",
              "      <th>Installs</th>\n",
              "      <th>RPI</th>\n",
              "    </tr>\n",
              "  </thead>\n",
              "  <tbody>\n",
              "    <tr>\n",
              "      <th>0</th>\n",
              "      <td>Photo Editor &amp; Candy Camera &amp; Grid &amp; ScrapBook</td>\n",
              "      <td>ART_AND_DESIGN</td>\n",
              "      <td>Everyone</td>\n",
              "      <td>Free</td>\n",
              "      <td>4.1</td>\n",
              "      <td>159.0</td>\n",
              "      <td>10000.0</td>\n",
              "      <td>0.015900</td>\n",
              "    </tr>\n",
              "    <tr>\n",
              "      <th>1</th>\n",
              "      <td>Coloring book moana</td>\n",
              "      <td>ART_AND_DESIGN</td>\n",
              "      <td>Everyone</td>\n",
              "      <td>Free</td>\n",
              "      <td>3.9</td>\n",
              "      <td>967.0</td>\n",
              "      <td>500000.0</td>\n",
              "      <td>0.001934</td>\n",
              "    </tr>\n",
              "    <tr>\n",
              "      <th>2</th>\n",
              "      <td>U Launcher Lite – FREE Live Cool Themes, Hide ...</td>\n",
              "      <td>ART_AND_DESIGN</td>\n",
              "      <td>Everyone</td>\n",
              "      <td>Free</td>\n",
              "      <td>4.7</td>\n",
              "      <td>87510.0</td>\n",
              "      <td>5000000.0</td>\n",
              "      <td>0.017502</td>\n",
              "    </tr>\n",
              "    <tr>\n",
              "      <th>3</th>\n",
              "      <td>Sketch - Draw &amp; Paint</td>\n",
              "      <td>ART_AND_DESIGN</td>\n",
              "      <td>Teen</td>\n",
              "      <td>Free</td>\n",
              "      <td>4.5</td>\n",
              "      <td>215644.0</td>\n",
              "      <td>50000000.0</td>\n",
              "      <td>0.004313</td>\n",
              "    </tr>\n",
              "    <tr>\n",
              "      <th>4</th>\n",
              "      <td>Pixel Draw - Number Art Coloring Book</td>\n",
              "      <td>ART_AND_DESIGN</td>\n",
              "      <td>Everyone</td>\n",
              "      <td>Free</td>\n",
              "      <td>4.3</td>\n",
              "      <td>967.0</td>\n",
              "      <td>100000.0</td>\n",
              "      <td>0.009670</td>\n",
              "    </tr>\n",
              "  </tbody>\n",
              "</table>\n",
              "</div>"
            ],
            "text/plain": [
              "                                                 App  ...       RPI\n",
              "0     Photo Editor & Candy Camera & Grid & ScrapBook  ...  0.015900\n",
              "1                                Coloring book moana  ...  0.001934\n",
              "2  U Launcher Lite – FREE Live Cool Themes, Hide ...  ...  0.017502\n",
              "3                              Sketch - Draw & Paint  ...  0.004313\n",
              "4              Pixel Draw - Number Art Coloring Book  ...  0.009670\n",
              "\n",
              "[5 rows x 8 columns]"
            ]
          },
          "metadata": {
            "tags": []
          },
          "execution_count": 6
        }
      ]
    },
    {
      "cell_type": "markdown",
      "metadata": {
        "id": "WQiqTIxvjNov"
      },
      "source": [
        "# Acknowledging Potential Bias"
      ]
    },
    {
      "cell_type": "markdown",
      "metadata": {
        "id": "J7vJp4PSjRfd"
      },
      "source": [
        "In this dataset, the values for Reviews, Installs, and RPI are incredibly variable. This would make sense, since there are a ton of apps which get very little to no engagement, a handful of apps which hundreds of millions of people use every single day, and then the majority of apps, which lie somewhere between those two subsets. For example, the 'GAME' category will have games like 'Fruit Ninja' or 'Subway Surfers' which might have millions of downloads and reviews, which would pull the 'GAME' category's average installs and reviews.\n",
        "\n",
        "Another source of potential bias is that installs were only reported in ranges. These ranges went from 1-4, 5-9, 10-49, 50-99, 100-499, 500-999, 1000-4999, etc. In the lower ranges, this matters a lot less as the possible error is much smaller. However, with some apps having over a billion installs, the differences between 500 million and 999 million, or 100 and 499 million can add up.\n",
        "\n",
        "This bias will certainly show up in the following analysis, but it is still a fairly accurate representation of the app market."
      ]
    },
    {
      "cell_type": "markdown",
      "metadata": {
        "id": "EokHQJLjnw6J"
      },
      "source": [
        "# Defining Success and Effect Size"
      ]
    },
    {
      "cell_type": "markdown",
      "metadata": {
        "id": "g0qnMOztn1Hg"
      },
      "source": [
        "We are defining success by four main indicators: Rating, Number of Reviews, Installs, and Reviews per Install. Rating would seem to be a pretty direct indicator of app success - as it shows how much the app users like the app. However, it has no information about the amount of users that app has. As we will see in the analysis below, some apps may have higher ratings, but don't do as well in regard to the other success indicators. Reviews and Installs are fairly straightforward - the more installs you have, the more people are downloading (and probably interacting with) your app. Reviews are a clearer indication of interaction, as people tend to review apps which they use frequently, as reviews are either prompted by the app or people are driven to review the app by their own volition. While number of Reviews and Installs is certainly correlated, some apps may tend to regularly garner more reviews on average. Reviews per install is a representation of how likely a person who installed the app is to review it. In a way this is a measurement of how invested people are in the app - given that it takes more effort and intention to write a review. In this analysis we will find out if the best performing categories, content ratings, and app type for each indicator (on average) are perfoming significantly better than the other categories."
      ]
    },
    {
      "cell_type": "markdown",
      "metadata": {
        "id": "nxAvGGS1r4NX"
      },
      "source": [
        "After using the testing for significance, if the tests express that there is a statistically significant difference between the best performing group and the others, then I will attempt to measure the effect size. If the distributions have proven to be normally distributed by skew, kurtosis, and the Shapiro-Wilk test, I will find a 95% confidence interval in the difference of means. If the distributions have proven to be non-normally distributed, I will randomly sample each group 5000 times, and plot those samples against each other then I will have an average difference of the sampled data, and will use that to estimate the effect size."
      ]
    },
    {
      "cell_type": "markdown",
      "metadata": {
        "id": "qL-TE6YhQ4cY"
      },
      "source": [
        "# Assessing App Success by Category"
      ]
    },
    {
      "cell_type": "markdown",
      "metadata": {
        "id": "QMJ_6_8Qrect"
      },
      "source": [
        "## Identifying Different Categories"
      ]
    },
    {
      "cell_type": "code",
      "metadata": {
        "colab": {
          "background_save": true
        },
        "id": "DfTy5SId-Not",
        "outputId": "eeaea56b-ca67-4490-e385-8be043f2c86f"
      },
      "source": [
        "for i in range(len(apps['Category'].unique())):\n",
        "  print(i+1,\"-\", apps['Category'].unique()[i])"
      ],
      "execution_count": null,
      "outputs": [
        {
          "output_type": "stream",
          "text": [
            "1 - ART_AND_DESIGN\n",
            "2 - AUTO_AND_VEHICLES\n",
            "3 - BEAUTY\n",
            "4 - BOOKS_AND_REFERENCE\n",
            "5 - BUSINESS\n",
            "6 - COMICS\n",
            "7 - COMMUNICATION\n",
            "8 - DATING\n",
            "9 - EDUCATION\n",
            "10 - ENTERTAINMENT\n",
            "11 - EVENTS\n",
            "12 - FINANCE\n",
            "13 - FOOD_AND_DRINK\n",
            "14 - HEALTH_AND_FITNESS\n",
            "15 - HOUSE_AND_HOME\n",
            "16 - LIBRARIES_AND_DEMO\n",
            "17 - LIFESTYLE\n",
            "18 - GAME\n",
            "19 - FAMILY\n",
            "20 - MEDICAL\n",
            "21 - SOCIAL\n",
            "22 - SHOPPING\n",
            "23 - PHOTOGRAPHY\n",
            "24 - SPORTS\n",
            "25 - TRAVEL_AND_LOCAL\n",
            "26 - TOOLS\n",
            "27 - PERSONALIZATION\n",
            "28 - PRODUCTIVITY\n",
            "29 - PARENTING\n",
            "30 - WEATHER\n",
            "31 - VIDEO_PLAYERS\n",
            "32 - NEWS_AND_MAGAZINES\n",
            "33 - MAPS_AND_NAVIGATION\n"
          ],
          "name": "stdout"
        }
      ]
    },
    {
      "cell_type": "markdown",
      "metadata": {
        "id": "fifDfWqnoSVJ"
      },
      "source": [
        "We can see that there are 33 different categories of apps, now we need to check how many of each category there are. We should check to make sure that there are enough in each category to be statistically viable for analysis."
      ]
    },
    {
      "cell_type": "code",
      "metadata": {
        "colab": {
          "background_save": true
        },
        "id": "9O9emCPfRk0g",
        "outputId": "35b6b72a-2912-4243-d329-b27521361df0"
      },
      "source": [
        "apps.groupby(['Category']).agg(['count'])"
      ],
      "execution_count": null,
      "outputs": [
        {
          "output_type": "execute_result",
          "data": {
            "text/html": [
              "<div>\n",
              "<style scoped>\n",
              "    .dataframe tbody tr th:only-of-type {\n",
              "        vertical-align: middle;\n",
              "    }\n",
              "\n",
              "    .dataframe tbody tr th {\n",
              "        vertical-align: top;\n",
              "    }\n",
              "\n",
              "    .dataframe thead tr th {\n",
              "        text-align: left;\n",
              "    }\n",
              "\n",
              "    .dataframe thead tr:last-of-type th {\n",
              "        text-align: right;\n",
              "    }\n",
              "</style>\n",
              "<table border=\"1\" class=\"dataframe\">\n",
              "  <thead>\n",
              "    <tr>\n",
              "      <th></th>\n",
              "      <th>App</th>\n",
              "      <th>Content Rating</th>\n",
              "      <th>Type</th>\n",
              "      <th>Rating</th>\n",
              "      <th>Reviews</th>\n",
              "      <th>Installs</th>\n",
              "      <th>RPI</th>\n",
              "    </tr>\n",
              "    <tr>\n",
              "      <th></th>\n",
              "      <th>count</th>\n",
              "      <th>count</th>\n",
              "      <th>count</th>\n",
              "      <th>count</th>\n",
              "      <th>count</th>\n",
              "      <th>count</th>\n",
              "      <th>count</th>\n",
              "    </tr>\n",
              "    <tr>\n",
              "      <th>Category</th>\n",
              "      <th></th>\n",
              "      <th></th>\n",
              "      <th></th>\n",
              "      <th></th>\n",
              "      <th></th>\n",
              "      <th></th>\n",
              "      <th></th>\n",
              "    </tr>\n",
              "  </thead>\n",
              "  <tbody>\n",
              "    <tr>\n",
              "      <th>ART_AND_DESIGN</th>\n",
              "      <td>62</td>\n",
              "      <td>62</td>\n",
              "      <td>62</td>\n",
              "      <td>62</td>\n",
              "      <td>62</td>\n",
              "      <td>62</td>\n",
              "      <td>62</td>\n",
              "    </tr>\n",
              "    <tr>\n",
              "      <th>AUTO_AND_VEHICLES</th>\n",
              "      <td>73</td>\n",
              "      <td>73</td>\n",
              "      <td>73</td>\n",
              "      <td>73</td>\n",
              "      <td>73</td>\n",
              "      <td>73</td>\n",
              "      <td>73</td>\n",
              "    </tr>\n",
              "    <tr>\n",
              "      <th>BEAUTY</th>\n",
              "      <td>42</td>\n",
              "      <td>42</td>\n",
              "      <td>42</td>\n",
              "      <td>42</td>\n",
              "      <td>42</td>\n",
              "      <td>42</td>\n",
              "      <td>42</td>\n",
              "    </tr>\n",
              "    <tr>\n",
              "      <th>BOOKS_AND_REFERENCE</th>\n",
              "      <td>178</td>\n",
              "      <td>178</td>\n",
              "      <td>178</td>\n",
              "      <td>178</td>\n",
              "      <td>178</td>\n",
              "      <td>178</td>\n",
              "      <td>178</td>\n",
              "    </tr>\n",
              "    <tr>\n",
              "      <th>BUSINESS</th>\n",
              "      <td>303</td>\n",
              "      <td>303</td>\n",
              "      <td>303</td>\n",
              "      <td>303</td>\n",
              "      <td>303</td>\n",
              "      <td>303</td>\n",
              "      <td>303</td>\n",
              "    </tr>\n",
              "    <tr>\n",
              "      <th>COMICS</th>\n",
              "      <td>58</td>\n",
              "      <td>58</td>\n",
              "      <td>58</td>\n",
              "      <td>58</td>\n",
              "      <td>58</td>\n",
              "      <td>58</td>\n",
              "      <td>58</td>\n",
              "    </tr>\n",
              "    <tr>\n",
              "      <th>COMMUNICATION</th>\n",
              "      <td>328</td>\n",
              "      <td>328</td>\n",
              "      <td>328</td>\n",
              "      <td>328</td>\n",
              "      <td>328</td>\n",
              "      <td>328</td>\n",
              "      <td>328</td>\n",
              "    </tr>\n",
              "    <tr>\n",
              "      <th>DATING</th>\n",
              "      <td>195</td>\n",
              "      <td>195</td>\n",
              "      <td>195</td>\n",
              "      <td>195</td>\n",
              "      <td>195</td>\n",
              "      <td>195</td>\n",
              "      <td>195</td>\n",
              "    </tr>\n",
              "    <tr>\n",
              "      <th>EDUCATION</th>\n",
              "      <td>155</td>\n",
              "      <td>155</td>\n",
              "      <td>155</td>\n",
              "      <td>155</td>\n",
              "      <td>155</td>\n",
              "      <td>155</td>\n",
              "      <td>155</td>\n",
              "    </tr>\n",
              "    <tr>\n",
              "      <th>ENTERTAINMENT</th>\n",
              "      <td>149</td>\n",
              "      <td>149</td>\n",
              "      <td>149</td>\n",
              "      <td>149</td>\n",
              "      <td>149</td>\n",
              "      <td>149</td>\n",
              "      <td>149</td>\n",
              "    </tr>\n",
              "    <tr>\n",
              "      <th>EVENTS</th>\n",
              "      <td>45</td>\n",
              "      <td>45</td>\n",
              "      <td>45</td>\n",
              "      <td>45</td>\n",
              "      <td>45</td>\n",
              "      <td>45</td>\n",
              "      <td>45</td>\n",
              "    </tr>\n",
              "    <tr>\n",
              "      <th>FAMILY</th>\n",
              "      <td>1747</td>\n",
              "      <td>1747</td>\n",
              "      <td>1747</td>\n",
              "      <td>1747</td>\n",
              "      <td>1747</td>\n",
              "      <td>1747</td>\n",
              "      <td>1747</td>\n",
              "    </tr>\n",
              "    <tr>\n",
              "      <th>FINANCE</th>\n",
              "      <td>323</td>\n",
              "      <td>323</td>\n",
              "      <td>323</td>\n",
              "      <td>323</td>\n",
              "      <td>323</td>\n",
              "      <td>323</td>\n",
              "      <td>323</td>\n",
              "    </tr>\n",
              "    <tr>\n",
              "      <th>FOOD_AND_DRINK</th>\n",
              "      <td>109</td>\n",
              "      <td>109</td>\n",
              "      <td>109</td>\n",
              "      <td>109</td>\n",
              "      <td>109</td>\n",
              "      <td>109</td>\n",
              "      <td>109</td>\n",
              "    </tr>\n",
              "    <tr>\n",
              "      <th>GAME</th>\n",
              "      <td>1097</td>\n",
              "      <td>1097</td>\n",
              "      <td>1097</td>\n",
              "      <td>1097</td>\n",
              "      <td>1097</td>\n",
              "      <td>1097</td>\n",
              "      <td>1097</td>\n",
              "    </tr>\n",
              "    <tr>\n",
              "      <th>HEALTH_AND_FITNESS</th>\n",
              "      <td>297</td>\n",
              "      <td>297</td>\n",
              "      <td>297</td>\n",
              "      <td>297</td>\n",
              "      <td>297</td>\n",
              "      <td>297</td>\n",
              "      <td>297</td>\n",
              "    </tr>\n",
              "    <tr>\n",
              "      <th>HOUSE_AND_HOME</th>\n",
              "      <td>76</td>\n",
              "      <td>76</td>\n",
              "      <td>76</td>\n",
              "      <td>76</td>\n",
              "      <td>76</td>\n",
              "      <td>76</td>\n",
              "      <td>76</td>\n",
              "    </tr>\n",
              "    <tr>\n",
              "      <th>LIBRARIES_AND_DEMO</th>\n",
              "      <td>65</td>\n",
              "      <td>65</td>\n",
              "      <td>65</td>\n",
              "      <td>65</td>\n",
              "      <td>65</td>\n",
              "      <td>65</td>\n",
              "      <td>65</td>\n",
              "    </tr>\n",
              "    <tr>\n",
              "      <th>LIFESTYLE</th>\n",
              "      <td>314</td>\n",
              "      <td>314</td>\n",
              "      <td>314</td>\n",
              "      <td>314</td>\n",
              "      <td>314</td>\n",
              "      <td>314</td>\n",
              "      <td>314</td>\n",
              "    </tr>\n",
              "    <tr>\n",
              "      <th>MAPS_AND_NAVIGATION</th>\n",
              "      <td>124</td>\n",
              "      <td>124</td>\n",
              "      <td>124</td>\n",
              "      <td>124</td>\n",
              "      <td>124</td>\n",
              "      <td>124</td>\n",
              "      <td>124</td>\n",
              "    </tr>\n",
              "    <tr>\n",
              "      <th>MEDICAL</th>\n",
              "      <td>350</td>\n",
              "      <td>350</td>\n",
              "      <td>350</td>\n",
              "      <td>350</td>\n",
              "      <td>350</td>\n",
              "      <td>350</td>\n",
              "      <td>350</td>\n",
              "    </tr>\n",
              "    <tr>\n",
              "      <th>NEWS_AND_MAGAZINES</th>\n",
              "      <td>233</td>\n",
              "      <td>233</td>\n",
              "      <td>233</td>\n",
              "      <td>233</td>\n",
              "      <td>233</td>\n",
              "      <td>233</td>\n",
              "      <td>233</td>\n",
              "    </tr>\n",
              "    <tr>\n",
              "      <th>PARENTING</th>\n",
              "      <td>50</td>\n",
              "      <td>50</td>\n",
              "      <td>50</td>\n",
              "      <td>50</td>\n",
              "      <td>50</td>\n",
              "      <td>50</td>\n",
              "      <td>50</td>\n",
              "    </tr>\n",
              "    <tr>\n",
              "      <th>PERSONALIZATION</th>\n",
              "      <td>314</td>\n",
              "      <td>314</td>\n",
              "      <td>314</td>\n",
              "      <td>314</td>\n",
              "      <td>314</td>\n",
              "      <td>314</td>\n",
              "      <td>314</td>\n",
              "    </tr>\n",
              "    <tr>\n",
              "      <th>PHOTOGRAPHY</th>\n",
              "      <td>317</td>\n",
              "      <td>317</td>\n",
              "      <td>317</td>\n",
              "      <td>317</td>\n",
              "      <td>317</td>\n",
              "      <td>317</td>\n",
              "      <td>317</td>\n",
              "    </tr>\n",
              "    <tr>\n",
              "      <th>PRODUCTIVITY</th>\n",
              "      <td>351</td>\n",
              "      <td>351</td>\n",
              "      <td>351</td>\n",
              "      <td>351</td>\n",
              "      <td>351</td>\n",
              "      <td>351</td>\n",
              "      <td>351</td>\n",
              "    </tr>\n",
              "    <tr>\n",
              "      <th>SHOPPING</th>\n",
              "      <td>238</td>\n",
              "      <td>238</td>\n",
              "      <td>238</td>\n",
              "      <td>238</td>\n",
              "      <td>238</td>\n",
              "      <td>238</td>\n",
              "      <td>238</td>\n",
              "    </tr>\n",
              "    <tr>\n",
              "      <th>SOCIAL</th>\n",
              "      <td>259</td>\n",
              "      <td>259</td>\n",
              "      <td>259</td>\n",
              "      <td>259</td>\n",
              "      <td>259</td>\n",
              "      <td>259</td>\n",
              "      <td>259</td>\n",
              "    </tr>\n",
              "    <tr>\n",
              "      <th>SPORTS</th>\n",
              "      <td>319</td>\n",
              "      <td>319</td>\n",
              "      <td>319</td>\n",
              "      <td>319</td>\n",
              "      <td>319</td>\n",
              "      <td>319</td>\n",
              "      <td>319</td>\n",
              "    </tr>\n",
              "    <tr>\n",
              "      <th>TOOLS</th>\n",
              "      <td>734</td>\n",
              "      <td>734</td>\n",
              "      <td>734</td>\n",
              "      <td>734</td>\n",
              "      <td>734</td>\n",
              "      <td>734</td>\n",
              "      <td>734</td>\n",
              "    </tr>\n",
              "    <tr>\n",
              "      <th>TRAVEL_AND_LOCAL</th>\n",
              "      <td>226</td>\n",
              "      <td>226</td>\n",
              "      <td>226</td>\n",
              "      <td>226</td>\n",
              "      <td>226</td>\n",
              "      <td>226</td>\n",
              "      <td>226</td>\n",
              "    </tr>\n",
              "    <tr>\n",
              "      <th>VIDEO_PLAYERS</th>\n",
              "      <td>160</td>\n",
              "      <td>160</td>\n",
              "      <td>160</td>\n",
              "      <td>160</td>\n",
              "      <td>160</td>\n",
              "      <td>160</td>\n",
              "      <td>160</td>\n",
              "    </tr>\n",
              "    <tr>\n",
              "      <th>WEATHER</th>\n",
              "      <td>75</td>\n",
              "      <td>75</td>\n",
              "      <td>75</td>\n",
              "      <td>75</td>\n",
              "      <td>75</td>\n",
              "      <td>75</td>\n",
              "      <td>75</td>\n",
              "    </tr>\n",
              "  </tbody>\n",
              "</table>\n",
              "</div>"
            ],
            "text/plain": [
              "                      App Content Rating  Type Rating Reviews Installs   RPI\n",
              "                    count          count count  count   count    count count\n",
              "Category                                                                    \n",
              "ART_AND_DESIGN         62             62    62     62      62       62    62\n",
              "AUTO_AND_VEHICLES      73             73    73     73      73       73    73\n",
              "BEAUTY                 42             42    42     42      42       42    42\n",
              "BOOKS_AND_REFERENCE   178            178   178    178     178      178   178\n",
              "BUSINESS              303            303   303    303     303      303   303\n",
              "COMICS                 58             58    58     58      58       58    58\n",
              "COMMUNICATION         328            328   328    328     328      328   328\n",
              "DATING                195            195   195    195     195      195   195\n",
              "EDUCATION             155            155   155    155     155      155   155\n",
              "ENTERTAINMENT         149            149   149    149     149      149   149\n",
              "EVENTS                 45             45    45     45      45       45    45\n",
              "FAMILY               1747           1747  1747   1747    1747     1747  1747\n",
              "FINANCE               323            323   323    323     323      323   323\n",
              "FOOD_AND_DRINK        109            109   109    109     109      109   109\n",
              "GAME                 1097           1097  1097   1097    1097     1097  1097\n",
              "HEALTH_AND_FITNESS    297            297   297    297     297      297   297\n",
              "HOUSE_AND_HOME         76             76    76     76      76       76    76\n",
              "LIBRARIES_AND_DEMO     65             65    65     65      65       65    65\n",
              "LIFESTYLE             314            314   314    314     314      314   314\n",
              "MAPS_AND_NAVIGATION   124            124   124    124     124      124   124\n",
              "MEDICAL               350            350   350    350     350      350   350\n",
              "NEWS_AND_MAGAZINES    233            233   233    233     233      233   233\n",
              "PARENTING              50             50    50     50      50       50    50\n",
              "PERSONALIZATION       314            314   314    314     314      314   314\n",
              "PHOTOGRAPHY           317            317   317    317     317      317   317\n",
              "PRODUCTIVITY          351            351   351    351     351      351   351\n",
              "SHOPPING              238            238   238    238     238      238   238\n",
              "SOCIAL                259            259   259    259     259      259   259\n",
              "SPORTS                319            319   319    319     319      319   319\n",
              "TOOLS                 734            734   734    734     734      734   734\n",
              "TRAVEL_AND_LOCAL      226            226   226    226     226      226   226\n",
              "VIDEO_PLAYERS         160            160   160    160     160      160   160\n",
              "WEATHER                75             75    75     75      75       75    75"
            ]
          },
          "metadata": {
            "tags": []
          },
          "execution_count": 0
        }
      ]
    },
    {
      "cell_type": "markdown",
      "metadata": {
        "id": "i-py3g0Xpv9b"
      },
      "source": [
        "We can see there are enough instances in each category to be statistically valid for analysis."
      ]
    },
    {
      "cell_type": "markdown",
      "metadata": {
        "id": "8nxJQnMIozKX"
      },
      "source": [
        "## Identifying and Testing Best Performing App Category: Rating"
      ]
    },
    {
      "cell_type": "code",
      "metadata": {
        "colab": {
          "background_save": true
        },
        "id": "HMWrsYdwpDjP",
        "outputId": "e019feb3-241f-4e85-e0d8-195cdc2b5e9b"
      },
      "source": [
        "avgs = apps.groupby(['Category']).mean()\n",
        "avgs.sort_values(by = 'Rating', ascending = False).head(5)"
      ],
      "execution_count": null,
      "outputs": [
        {
          "output_type": "execute_result",
          "data": {
            "text/html": [
              "<div>\n",
              "<style scoped>\n",
              "    .dataframe tbody tr th:only-of-type {\n",
              "        vertical-align: middle;\n",
              "    }\n",
              "\n",
              "    .dataframe tbody tr th {\n",
              "        vertical-align: top;\n",
              "    }\n",
              "\n",
              "    .dataframe thead th {\n",
              "        text-align: right;\n",
              "    }\n",
              "</style>\n",
              "<table border=\"1\" class=\"dataframe\">\n",
              "  <thead>\n",
              "    <tr style=\"text-align: right;\">\n",
              "      <th></th>\n",
              "      <th>Rating</th>\n",
              "      <th>Reviews</th>\n",
              "      <th>Installs</th>\n",
              "      <th>RPI</th>\n",
              "    </tr>\n",
              "    <tr>\n",
              "      <th>Category</th>\n",
              "      <th></th>\n",
              "      <th></th>\n",
              "      <th></th>\n",
              "      <th></th>\n",
              "    </tr>\n",
              "  </thead>\n",
              "  <tbody>\n",
              "    <tr>\n",
              "      <th>EVENTS</th>\n",
              "      <td>4.435556</td>\n",
              "      <td>3568.666667</td>\n",
              "      <td>3.544313e+05</td>\n",
              "      <td>0.030471</td>\n",
              "    </tr>\n",
              "    <tr>\n",
              "      <th>EDUCATION</th>\n",
              "      <td>4.389032</td>\n",
              "      <td>255451.677419</td>\n",
              "      <td>5.621626e+06</td>\n",
              "      <td>0.031566</td>\n",
              "    </tr>\n",
              "    <tr>\n",
              "      <th>ART_AND_DESIGN</th>\n",
              "      <td>4.358065</td>\n",
              "      <td>27651.161290</td>\n",
              "      <td>2.003760e+06</td>\n",
              "      <td>0.020311</td>\n",
              "    </tr>\n",
              "    <tr>\n",
              "      <th>BOOKS_AND_REFERENCE</th>\n",
              "      <td>4.346067</td>\n",
              "      <td>123363.258427</td>\n",
              "      <td>1.079377e+07</td>\n",
              "      <td>0.032065</td>\n",
              "    </tr>\n",
              "    <tr>\n",
              "      <th>PERSONALIZATION</th>\n",
              "      <td>4.335987</td>\n",
              "      <td>284540.812102</td>\n",
              "      <td>7.405583e+06</td>\n",
              "      <td>0.041123</td>\n",
              "    </tr>\n",
              "  </tbody>\n",
              "</table>\n",
              "</div>"
            ],
            "text/plain": [
              "                       Rating        Reviews      Installs       RPI\n",
              "Category                                                            \n",
              "EVENTS               4.435556    3568.666667  3.544313e+05  0.030471\n",
              "EDUCATION            4.389032  255451.677419  5.621626e+06  0.031566\n",
              "ART_AND_DESIGN       4.358065   27651.161290  2.003760e+06  0.020311\n",
              "BOOKS_AND_REFERENCE  4.346067  123363.258427  1.079377e+07  0.032065\n",
              "PERSONALIZATION      4.335987  284540.812102  7.405583e+06  0.041123"
            ]
          },
          "metadata": {
            "tags": []
          },
          "execution_count": 0
        }
      ]
    },
    {
      "cell_type": "code",
      "metadata": {
        "colab": {
          "background_save": true
        },
        "id": "5ZIlAnvitY6l",
        "outputId": "e59c05f4-cb8c-4bdf-8028-19c1713a6ed6"
      },
      "source": [
        "plt.figure(figsize=(15,10))\n",
        "sns.boxplot(y=\"Rating\", x=\"Category\", data=apps, showmeans=True, meanprops={\"marker\":\"o\", \"markerfacecolor\":\"white\", \"markeredgecolor\":\"black\", \"markersize\":\"7.5\"})\n",
        "plt.xticks(rotation=90)"
      ],
      "execution_count": null,
      "outputs": [
        {
          "output_type": "execute_result",
          "data": {
            "text/plain": [
              "(array([ 0,  1,  2,  3,  4,  5,  6,  7,  8,  9, 10, 11, 12, 13, 14, 15, 16,\n",
              "        17, 18, 19, 20, 21, 22, 23, 24, 25, 26, 27, 28, 29, 30, 31, 32]),\n",
              " <a list of 33 Text major ticklabel objects>)"
            ]
          },
          "metadata": {
            "tags": []
          },
          "execution_count": 0
        },
        {
          "output_type": "display_data",
          "data": {
            "image/png": "[encoded data removed]",
            "text/plain": [
              "<Figure size 1080x720 with 1 Axes>"
            ]
          },
          "metadata": {
            "tags": []
          }
        }
      ]
    },
    {
      "cell_type": "markdown",
      "metadata": {
        "id": "65LuftncwNbU"
      },
      "source": [
        "Here we have the boxplots of all the categories' ratings. The white circle shows where the mean for each category is. We can see in the plot, as well as in the chart above, that the Events category has the highest average rating."
      ]
    },
    {
      "cell_type": "code",
      "metadata": {
        "colab": {
          "background_save": true
        },
        "id": "sEjAgcbzwM-l",
        "outputId": "d283d785-9b8e-43ac-ddc3-561afa41a283"
      },
      "source": [
        "apps_events = apps.copy(deep=True)\n",
        "\n",
        "for index in apps_events.index:\n",
        "  if apps_events.loc[index, 'Category'] != 'EVENTS':\n",
        "    apps_events.loc[index,'Category'] = 'NOT EVENTS'\n",
        "apps_events.groupby(['Category']).agg(['count'])"
      ],
      "execution_count": null,
      "outputs": [
        {
          "output_type": "execute_result",
          "data": {
            "text/html": [
              "<div>\n",
              "<style scoped>\n",
              "    .dataframe tbody tr th:only-of-type {\n",
              "        vertical-align: middle;\n",
              "    }\n",
              "\n",
              "    .dataframe tbody tr th {\n",
              "        vertical-align: top;\n",
              "    }\n",
              "\n",
              "    .dataframe thead tr th {\n",
              "        text-align: left;\n",
              "    }\n",
              "\n",
              "    .dataframe thead tr:last-of-type th {\n",
              "        text-align: right;\n",
              "    }\n",
              "</style>\n",
              "<table border=\"1\" class=\"dataframe\">\n",
              "  <thead>\n",
              "    <tr>\n",
              "      <th></th>\n",
              "      <th>App</th>\n",
              "      <th>Content Rating</th>\n",
              "      <th>Type</th>\n",
              "      <th>Rating</th>\n",
              "      <th>Reviews</th>\n",
              "      <th>Installs</th>\n",
              "      <th>RPI</th>\n",
              "    </tr>\n",
              "    <tr>\n",
              "      <th></th>\n",
              "      <th>count</th>\n",
              "      <th>count</th>\n",
              "      <th>count</th>\n",
              "      <th>count</th>\n",
              "      <th>count</th>\n",
              "      <th>count</th>\n",
              "      <th>count</th>\n",
              "    </tr>\n",
              "    <tr>\n",
              "      <th>Category</th>\n",
              "      <th></th>\n",
              "      <th></th>\n",
              "      <th></th>\n",
              "      <th></th>\n",
              "      <th></th>\n",
              "      <th></th>\n",
              "      <th></th>\n",
              "    </tr>\n",
              "  </thead>\n",
              "  <tbody>\n",
              "    <tr>\n",
              "      <th>EVENTS</th>\n",
              "      <td>45</td>\n",
              "      <td>45</td>\n",
              "      <td>45</td>\n",
              "      <td>45</td>\n",
              "      <td>45</td>\n",
              "      <td>45</td>\n",
              "      <td>45</td>\n",
              "    </tr>\n",
              "    <tr>\n",
              "      <th>NOT EVENTS</th>\n",
              "      <td>9321</td>\n",
              "      <td>9321</td>\n",
              "      <td>9321</td>\n",
              "      <td>9321</td>\n",
              "      <td>9321</td>\n",
              "      <td>9321</td>\n",
              "      <td>9321</td>\n",
              "    </tr>\n",
              "  </tbody>\n",
              "</table>\n",
              "</div>"
            ],
            "text/plain": [
              "             App Content Rating  Type Rating Reviews Installs   RPI\n",
              "           count          count count  count   count    count count\n",
              "Category                                                           \n",
              "EVENTS        45             45    45     45      45       45    45\n",
              "NOT EVENTS  9321           9321  9321   9321    9321     9321  9321"
            ]
          },
          "metadata": {
            "tags": []
          },
          "execution_count": 0
        }
      ]
    },
    {
      "cell_type": "markdown",
      "metadata": {
        "id": "16_RSrFVo8ql"
      },
      "source": [
        "Since we have identified the Events category as the highest rated category on average, we now split the data into the Events category and the other apps to check for significance."
      ]
    },
    {
      "cell_type": "code",
      "metadata": {
        "colab": {
          "background_save": true
        },
        "id": "Y-NdipsOGxWE",
        "outputId": "e0502ca0-5aed-4358-e411-717a16ca0e3c"
      },
      "source": [
        "plt.figure(figsize=(10,5))\n",
        "sns.boxplot(x=\"Rating\", y=\"Category\", data=apps_events, showmeans=True, meanprops={\"marker\":\"o\", \"markerfacecolor\":\"white\", \"markeredgecolor\":\"black\", \"markersize\":\"7.5\"})"
      ],
      "execution_count": null,
      "outputs": [
        {
          "output_type": "execute_result",
          "data": {
            "text/plain": [
              "<matplotlib.axes._subplots.AxesSubplot at 0x7f51263407f0>"
            ]
          },
          "metadata": {
            "tags": []
          },
          "execution_count": 0
        },
        {
          "output_type": "display_data",
          "data": {
            "image/png": "[encoded data removed]",
            "text/plain": [
              "<Figure size 720x360 with 1 Axes>"
            ]
          },
          "metadata": {
            "tags": []
          }
        }
      ]
    },
    {
      "cell_type": "markdown",
      "metadata": {
        "id": "0O0NrAgYpQzQ"
      },
      "source": [
        "Here we can see two representations of the Events vs. Non-Events apps. \n",
        "\n",
        "Above we have the boxplots showing events being more concentrated in the higher ratings, with the white dot again showing the mean value.\n",
        "\n",
        "Below we can see a distribution plot for both groups. We can see that the Events category peaks at a higher rating."
      ]
    },
    {
      "cell_type": "code",
      "metadata": {
        "colab": {
          "background_save": true
        },
        "id": "ad6BLP-aGxWE",
        "outputId": "a3ff6cdc-3d93-44db-d074-85afcf4f4fdb"
      },
      "source": [
        "plt.figure(figsize=(10,5))\n",
        "sns.kdeplot(data=apps_events, x=\"Rating\", hue='Category', common_norm=False)"
      ],
      "execution_count": null,
      "outputs": [
        {
          "output_type": "execute_result",
          "data": {
            "text/plain": [
              "<matplotlib.axes._subplots.AxesSubplot at 0x7f5124274a90>"
            ]
          },
          "metadata": {
            "tags": []
          },
          "execution_count": 0
        },
        {
          "output_type": "display_data",
          "data": {
            "image/png": "[encoded data removed]",
            "text/plain": [
              "<Figure size 720x360 with 1 Axes>"
            ]
          },
          "metadata": {
            "tags": []
          }
        }
      ]
    },
    {
      "cell_type": "code",
      "metadata": {
        "colab": {
          "background_save": true
        },
        "id": "eepq4lWcN1FG"
      },
      "source": [
        "events = apps[apps['Category'] == 'EVENTS']\n",
        "not_events = apps[apps['Category'] != 'EVENTS']"
      ],
      "execution_count": null,
      "outputs": []
    },
    {
      "cell_type": "markdown",
      "metadata": {
        "id": "LJrA98aYqh_N"
      },
      "source": [
        "Now we need to test to see if these two groups are normally distributed."
      ]
    },
    {
      "cell_type": "code",
      "metadata": {
        "colab": {
          "background_save": true
        },
        "id": "r1Ie01adOW3b",
        "outputId": "d3478cf6-a5e2-48ef-d8b8-75881f2905f5"
      },
      "source": [
        "print('The events rating distribution has skewness of {}, and kurtosis of {}'.format(stats.describe(events['Rating'])[-2],stats.describe(events['Rating'])[-1]))\n",
        "print('The non-events rating distribution has skewness of {}, and kurtosis of {}'.format(stats.describe(not_events['Rating'])[-2],stats.describe(not_events['Rating'])[-1]))"
      ],
      "execution_count": null,
      "outputs": [
        {
          "output_type": "stream",
          "text": [
            "The events rating distribution has skewness of -1.057914544127723, and kurtosis of 2.239807488835133\n",
            "The non-events rating distribution has skewness of -1.8520587496214815, and kurtosis of 5.787839940533557\n"
          ],
          "name": "stdout"
        }
      ]
    },
    {
      "cell_type": "markdown",
      "metadata": {
        "id": "ZPEv3rmbRX8d"
      },
      "source": [
        "The non-events rating distribution has a kurtosis which is outside of the accepted range for normality."
      ]
    },
    {
      "cell_type": "code",
      "metadata": {
        "colab": {
          "background_save": true
        },
        "id": "fJScaGpmMW4q",
        "outputId": "56e96521-b349-462e-a0e7-73b747c7493a"
      },
      "source": [
        "print(stats.shapiro(events['Rating']))\n",
        "print(stats.shapiro(not_events['Rating']))"
      ],
      "execution_count": null,
      "outputs": [
        {
          "output_type": "stream",
          "text": [
            "(0.9196527004241943, 0.004114943090826273)\n",
            "(0.8627778887748718, 0.0)\n"
          ],
          "name": "stdout"
        }
      ]
    },
    {
      "cell_type": "markdown",
      "metadata": {
        "id": "zHVYl9LiPkdg"
      },
      "source": [
        "We can see that both distributions are non-normal, since both failed the Shapiro-Wilk test, therefore we can't use a regular t-test. Let's use the Kruskal-Wallis test instead."
      ]
    },
    {
      "cell_type": "code",
      "metadata": {
        "colab": {
          "background_save": true
        },
        "id": "bRub47yJTa4q",
        "outputId": "08bf87e1-8a9b-440a-d440-99b4768ae368"
      },
      "source": [
        "stats.kruskal(events['Rating'], not_events['Rating'])"
      ],
      "execution_count": null,
      "outputs": [
        {
          "output_type": "execute_result",
          "data": {
            "text/plain": [
              "KruskalResult(statistic=11.923616091802172, pvalue=0.0005542678688447767)"
            ]
          },
          "metadata": {
            "tags": []
          },
          "execution_count": 0
        }
      ]
    },
    {
      "cell_type": "markdown",
      "metadata": {
        "id": "sluAPuPhUbrE"
      },
      "source": [
        "Our p-value is <0.05, and so we can confirm that there is a statistically significant difference in the ratings for the events category.\n",
        "\n",
        "Now, to get a better and cleaner understanding of the average difference, we will randomly sample the above distributions and use the central limit theorem to nudge them towards normality, to focus in on the mean value."
      ]
    },
    {
      "cell_type": "code",
      "metadata": {
        "colab": {
          "background_save": true
        },
        "id": "jpPcUAKE2tAk"
      },
      "source": [
        "def sample(n, df1, df2, indicator, col1, col2):\n",
        "  results_a = []\n",
        "  trials_a = []\n",
        "  results_b = []\n",
        "  trials_b = []\n",
        "\n",
        "  for i in range(1,n+1):\n",
        "    trial = df1.iloc[random.randint(0, len(df1)-1)][indicator]\n",
        "    trials_a.append(trial)\n",
        "    running_avg_a = statistics.mean(trials_a)\n",
        "    results_a.append(running_avg_a)\n",
        "    trial = df2.iloc[random.randint(0, len(df2)-1)][indicator]\n",
        "    trials_b.append(trial)\n",
        "    running_avg_b = statistics.mean(trials_b)\n",
        "    results_b.append(running_avg_b)\n",
        "\n",
        "  sample_df = pd.DataFrame({col1 : results_a, col2 : results_b})\n",
        "  return sample_df\n",
        "\n",
        "# This creates a sampling function which we can use whenever we are trying to re-assess the mean of non-normal distributions."
      ],
      "execution_count": null,
      "outputs": []
    },
    {
      "cell_type": "code",
      "metadata": {
        "colab": {
          "background_save": true
        },
        "id": "3qI1mcrL2tAk"
      },
      "source": [
        "def sample_replot(df):\n",
        "  avg_a = df.iloc[-1][0]\n",
        "  avg_b = df.iloc[-1][1]\n",
        "  sns.kdeplot(data=df)\n",
        "  plt.axvline(avg_a, 0,5000)\n",
        "  plt.axvline(avg_b, 0,5000, color='orange')\n",
        "# This will plot the distribution of the sample, with a line throught the average values."
      ],
      "execution_count": null,
      "outputs": []
    },
    {
      "cell_type": "code",
      "metadata": {
        "colab": {
          "background_save": true
        },
        "id": "5lJ4nuS23aFh",
        "outputId": "549674a9-019c-4f51-f5a4-0106f0f3c8dd"
      },
      "source": [
        "cat_rating = sample(5000, events, not_events, 'Rating', 'Events Rating Avg', 'Non-Events Rating Avg')\n",
        "plt.figure(figsize=(10,5))\n",
        "cat_rating.plot()"
      ],
      "execution_count": null,
      "outputs": [
        {
          "output_type": "execute_result",
          "data": {
            "text/plain": [
              "<matplotlib.axes._subplots.AxesSubplot at 0x7f5125f561d0>"
            ]
          },
          "metadata": {
            "tags": []
          },
          "execution_count": 0
        },
        {
          "output_type": "display_data",
          "data": {
            "text/plain": [
              "<Figure size 720x360 with 0 Axes>"
            ]
          },
          "metadata": {
            "tags": []
          }
        },
        {
          "output_type": "display_data",
          "data": {
            "image/png": "[encoded data removed]",
            "text/plain": [
              "<Figure size 432x288 with 1 Axes>"
            ]
          },
          "metadata": {
            "tags": []
          }
        }
      ]
    },
    {
      "cell_type": "code",
      "metadata": {
        "colab": {
          "background_save": true
        },
        "id": "LhYMFgNg34Sc",
        "outputId": "86ff7393-6879-4706-d242-48e385cb5d83"
      },
      "source": [
        "plt.figure(figsize=(10,5))\n",
        "sample_replot(cat_rating)"
      ],
      "execution_count": null,
      "outputs": [
        {
          "output_type": "display_data",
          "data": {
            "image/png": "[encoded data removed]",
            "text/plain": [
              "<Figure size 720x360 with 1 Axes>"
            ]
          },
          "metadata": {
            "tags": []
          }
        }
      ]
    },
    {
      "cell_type": "code",
      "metadata": {
        "colab": {
          "background_save": true
        },
        "id": "MDhApbJdKk5y",
        "outputId": "fda193ce-2a91-4afa-f38d-34dd0f00ee11"
      },
      "source": [
        "print('After randomly sampling 5000 times, the average difference between the two groups is {}'.format(cat_rating.iloc[-1][0] - cat_rating.iloc[-1][1]))"
      ],
      "execution_count": null,
      "outputs": [
        {
          "output_type": "stream",
          "text": [
            "After randomly sampling 5000 times, the average difference between the two groups is 0.24359999999999982\n"
          ],
          "name": "stdout"
        }
      ]
    },
    {
      "cell_type": "code",
      "metadata": {
        "colab": {
          "background_save": true
        },
        "id": "TJboc7Wv6UBg"
      },
      "source": [
        "cat_rat_dif = cat_rating.iloc[-1][0] - cat_rating.iloc[-1][1]\n",
        "cat_rat_val = round((cat_rat_dif/cat_rating.iloc[-1][0])*100,2)"
      ],
      "execution_count": null,
      "outputs": []
    },
    {
      "cell_type": "code",
      "metadata": {
        "colab": {
          "background_save": true
        },
        "id": "jVaqUpXhtTTH",
        "outputId": "16d37e91-31e5-44a3-c9c0-a391f0bba716"
      },
      "source": [
        "print(\"We have found that average Events app tend to be rated {} stars higher than the average non-Events app. Events apps are rated {}% higher than other apps.\".format(round(cat_rat_dif, 3), cat_rat_val))"
      ],
      "execution_count": null,
      "outputs": [
        {
          "output_type": "stream",
          "text": [
            "We have found that average Events app tend to be rated 0.244 stars higher than the average non-Events app. Events apps are rated 5.5% higher than other apps.\n"
          ],
          "name": "stdout"
        }
      ]
    },
    {
      "cell_type": "markdown",
      "metadata": {
        "id": "42NNXABFsAac"
      },
      "source": [
        "For each of the other success measures, we will go through a similar process to determine the effect size of each difference. We will also do this for Content Ratings and App Types."
      ]
    },
    {
      "cell_type": "markdown",
      "metadata": {
        "id": "GeYO2WP5wB2J"
      },
      "source": [
        "## Identifying and Testing Best Performing App Categories: Reviews"
      ]
    },
    {
      "cell_type": "code",
      "metadata": {
        "colab": {
          "background_save": true
        },
        "id": "yEwRUEewqfoB",
        "outputId": "12e87b2a-c0c4-4d46-b43b-6c9813099aaf"
      },
      "source": [
        "avgs.sort_values(by = 'Reviews', ascending = False).head(5)"
      ],
      "execution_count": null,
      "outputs": [
        {
          "output_type": "execute_result",
          "data": {
            "text/html": [
              "<div>\n",
              "<style scoped>\n",
              "    .dataframe tbody tr th:only-of-type {\n",
              "        vertical-align: middle;\n",
              "    }\n",
              "\n",
              "    .dataframe tbody tr th {\n",
              "        vertical-align: top;\n",
              "    }\n",
              "\n",
              "    .dataframe thead th {\n",
              "        text-align: right;\n",
              "    }\n",
              "</style>\n",
              "<table border=\"1\" class=\"dataframe\">\n",
              "  <thead>\n",
              "    <tr style=\"text-align: right;\">\n",
              "      <th></th>\n",
              "      <th>Rating</th>\n",
              "      <th>Reviews</th>\n",
              "      <th>Installs</th>\n",
              "      <th>RPI</th>\n",
              "    </tr>\n",
              "    <tr>\n",
              "      <th>Category</th>\n",
              "      <th></th>\n",
              "      <th></th>\n",
              "      <th></th>\n",
              "      <th></th>\n",
              "    </tr>\n",
              "  </thead>\n",
              "  <tbody>\n",
              "    <tr>\n",
              "      <th>COMMUNICATION</th>\n",
              "      <td>4.158537</td>\n",
              "      <td>2.486164e+06</td>\n",
              "      <td>9.953427e+07</td>\n",
              "      <td>0.033323</td>\n",
              "    </tr>\n",
              "    <tr>\n",
              "      <th>SOCIAL</th>\n",
              "      <td>4.255598</td>\n",
              "      <td>2.398614e+06</td>\n",
              "      <td>5.432371e+07</td>\n",
              "      <td>0.053427</td>\n",
              "    </tr>\n",
              "    <tr>\n",
              "      <th>GAME</th>\n",
              "      <td>4.286326</td>\n",
              "      <td>1.445232e+06</td>\n",
              "      <td>3.198347e+07</td>\n",
              "      <td>0.056972</td>\n",
              "    </tr>\n",
              "    <tr>\n",
              "      <th>VIDEO_PLAYERS</th>\n",
              "      <td>4.063750</td>\n",
              "      <td>6.898731e+05</td>\n",
              "      <td>3.888686e+07</td>\n",
              "      <td>0.029706</td>\n",
              "    </tr>\n",
              "    <tr>\n",
              "      <th>PHOTOGRAPHY</th>\n",
              "      <td>4.192114</td>\n",
              "      <td>6.735540e+05</td>\n",
              "      <td>3.182411e+07</td>\n",
              "      <td>0.027614</td>\n",
              "    </tr>\n",
              "  </tbody>\n",
              "</table>\n",
              "</div>"
            ],
            "text/plain": [
              "                 Rating       Reviews      Installs       RPI\n",
              "Category                                                     \n",
              "COMMUNICATION  4.158537  2.486164e+06  9.953427e+07  0.033323\n",
              "SOCIAL         4.255598  2.398614e+06  5.432371e+07  0.053427\n",
              "GAME           4.286326  1.445232e+06  3.198347e+07  0.056972\n",
              "VIDEO_PLAYERS  4.063750  6.898731e+05  3.888686e+07  0.029706\n",
              "PHOTOGRAPHY    4.192114  6.735540e+05  3.182411e+07  0.027614"
            ]
          },
          "metadata": {
            "tags": []
          },
          "execution_count": 0
        }
      ]
    },
    {
      "cell_type": "code",
      "metadata": {
        "colab": {
          "background_save": true
        },
        "id": "kAyA2ytDtem-",
        "outputId": "ca86e99e-a322-4cfa-8339-8feaf2c37aff"
      },
      "source": [
        "plt.figure(figsize=(15,10))\n",
        "sns.boxplot(y=\"Reviews\", x=\"Category\", data=apps, showmeans=True, meanprops={\"marker\":\"o\", \"markerfacecolor\":\"white\", \"markeredgecolor\":\"black\", \"markersize\":\"7.5\"})\n",
        "plt.yscale('log')\n",
        "plt.xticks(rotation=90)"
      ],
      "execution_count": null,
      "outputs": [
        {
          "output_type": "execute_result",
          "data": {
            "text/plain": [
              "(array([ 0,  1,  2,  3,  4,  5,  6,  7,  8,  9, 10, 11, 12, 13, 14, 15, 16,\n",
              "        17, 18, 19, 20, 21, 22, 23, 24, 25, 26, 27, 28, 29, 30, 31, 32]),\n",
              " <a list of 33 Text major ticklabel objects>)"
            ]
          },
          "metadata": {
            "tags": []
          },
          "execution_count": 0
        },
        {
          "output_type": "display_data",
          "data": {
            "image/png": "[encoded data removed]",
            "text/plain": [
              "<Figure size 1080x720 with 1 Axes>"
            ]
          },
          "metadata": {
            "tags": []
          }
        }
      ]
    },
    {
      "cell_type": "markdown",
      "metadata": {
        "id": "hXHAeQMrwxjO"
      },
      "source": [
        "We can see that the Communication category has the highest average number of reviews."
      ]
    },
    {
      "cell_type": "code",
      "metadata": {
        "colab": {
          "background_save": true
        },
        "id": "F6Jedr2cwxYS",
        "outputId": "ed9b9ad6-876e-445a-aeb7-727a6b53454a"
      },
      "source": [
        "apps_comm = apps.copy(deep=True)\n",
        "\n",
        "for index in apps_comm.index:\n",
        "  if apps_comm.loc[index, 'Category'] != 'COMMUNICATION':\n",
        "    apps_comm.loc[index, 'Category'] = 'NOT COMMUNICATION'\n",
        "apps_comm.groupby(['Category']).agg(['count'])"
      ],
      "execution_count": null,
      "outputs": [
        {
          "output_type": "execute_result",
          "data": {
            "text/html": [
              "<div>\n",
              "<style scoped>\n",
              "    .dataframe tbody tr th:only-of-type {\n",
              "        vertical-align: middle;\n",
              "    }\n",
              "\n",
              "    .dataframe tbody tr th {\n",
              "        vertical-align: top;\n",
              "    }\n",
              "\n",
              "    .dataframe thead tr th {\n",
              "        text-align: left;\n",
              "    }\n",
              "\n",
              "    .dataframe thead tr:last-of-type th {\n",
              "        text-align: right;\n",
              "    }\n",
              "</style>\n",
              "<table border=\"1\" class=\"dataframe\">\n",
              "  <thead>\n",
              "    <tr>\n",
              "      <th></th>\n",
              "      <th>App</th>\n",
              "      <th>Content Rating</th>\n",
              "      <th>Type</th>\n",
              "      <th>Rating</th>\n",
              "      <th>Reviews</th>\n",
              "      <th>Installs</th>\n",
              "      <th>RPI</th>\n",
              "    </tr>\n",
              "    <tr>\n",
              "      <th></th>\n",
              "      <th>count</th>\n",
              "      <th>count</th>\n",
              "      <th>count</th>\n",
              "      <th>count</th>\n",
              "      <th>count</th>\n",
              "      <th>count</th>\n",
              "      <th>count</th>\n",
              "    </tr>\n",
              "    <tr>\n",
              "      <th>Category</th>\n",
              "      <th></th>\n",
              "      <th></th>\n",
              "      <th></th>\n",
              "      <th></th>\n",
              "      <th></th>\n",
              "      <th></th>\n",
              "      <th></th>\n",
              "    </tr>\n",
              "  </thead>\n",
              "  <tbody>\n",
              "    <tr>\n",
              "      <th>COMMUNICATION</th>\n",
              "      <td>328</td>\n",
              "      <td>328</td>\n",
              "      <td>328</td>\n",
              "      <td>328</td>\n",
              "      <td>328</td>\n",
              "      <td>328</td>\n",
              "      <td>328</td>\n",
              "    </tr>\n",
              "    <tr>\n",
              "      <th>NOT COMMUNICATION</th>\n",
              "      <td>9038</td>\n",
              "      <td>9038</td>\n",
              "      <td>9038</td>\n",
              "      <td>9038</td>\n",
              "      <td>9038</td>\n",
              "      <td>9038</td>\n",
              "      <td>9038</td>\n",
              "    </tr>\n",
              "  </tbody>\n",
              "</table>\n",
              "</div>"
            ],
            "text/plain": [
              "                    App Content Rating  Type Rating Reviews Installs   RPI\n",
              "                  count          count count  count   count    count count\n",
              "Category                                                                  \n",
              "COMMUNICATION       328            328   328    328     328      328   328\n",
              "NOT COMMUNICATION  9038           9038  9038   9038    9038     9038  9038"
            ]
          },
          "metadata": {
            "tags": []
          },
          "execution_count": 0
        }
      ]
    },
    {
      "cell_type": "markdown",
      "metadata": {
        "id": "tiu-gDvnvSPn"
      },
      "source": [
        "Both groups have enough data, we can continue."
      ]
    },
    {
      "cell_type": "code",
      "metadata": {
        "colab": {
          "background_save": true
        },
        "id": "mcFsrzKhHHN_",
        "outputId": "f6264319-dcb2-4941-f864-9dc8c8c78d43"
      },
      "source": [
        "plt.figure(figsize=(10,5))\n",
        "sns.boxplot(x='Reviews', y=\"Category\", data=apps_comm, showmeans=True, meanprops={\"marker\":\"o\", \"markerfacecolor\":\"white\", \"markeredgecolor\":\"black\", \"markersize\":\"7.5\"})\n",
        "plt.xscale('log')"
      ],
      "execution_count": null,
      "outputs": [
        {
          "output_type": "display_data",
          "data": {
            "image/png": "[encoded data removed]",
            "text/plain": [
              "<Figure size 720x360 with 1 Axes>"
            ]
          },
          "metadata": {
            "tags": []
          }
        }
      ]
    },
    {
      "cell_type": "markdown",
      "metadata": {
        "id": "HkQXnBEOvXV7"
      },
      "source": [
        "We can see that while both distributions are fairly variable, Communication apps have a higher average Review count."
      ]
    },
    {
      "cell_type": "code",
      "metadata": {
        "colab": {
          "background_save": true
        },
        "id": "xKaXy-_bHHN_",
        "outputId": "ddcf2d5c-7a74-4940-e326-81b5fd2d6fe6"
      },
      "source": [
        "plt.figure(figsize=(10,5))\n",
        "sns.kdeplot(data=apps_comm, x='Reviews', hue = 'Category', common_norm=False)\n",
        "plt.xscale('log')"
      ],
      "execution_count": null,
      "outputs": [
        {
          "output_type": "display_data",
          "data": {
            "image/png": "[encoded data removed]",
            "text/plain": [
              "<Figure size 720x360 with 1 Axes>"
            ]
          },
          "metadata": {
            "tags": []
          }
        }
      ]
    },
    {
      "cell_type": "markdown",
      "metadata": {
        "id": "aRTtforFbegl"
      },
      "source": [
        "Note: Since the x-axis is set to a logarithmic scale, it may seem like the probability densities aren't equal. However, the x-scale gets denser as you move right on the graph, and evens out the probability densities. This applies to all other non-rating distributions."
      ]
    },
    {
      "cell_type": "code",
      "metadata": {
        "colab": {
          "background_save": true
        },
        "id": "vAEDdOb0YjP7"
      },
      "source": [
        "comm = apps[apps['Category'] == 'COMMUNICATION']\n",
        "not_comm = apps[apps['Category'] != 'COMMUNICATION']"
      ],
      "execution_count": null,
      "outputs": []
    },
    {
      "cell_type": "markdown",
      "metadata": {
        "id": "_rYko28kvnfz"
      },
      "source": [
        "Now we can test for normality, but it doesnt seem like these distributions will be normal."
      ]
    },
    {
      "cell_type": "code",
      "metadata": {
        "colab": {
          "background_save": true
        },
        "id": "13SvtRHIYjP8",
        "outputId": "38532b0f-2549-4c7a-a65c-dc21571114c5"
      },
      "source": [
        "print('The communication reviews distribution has skewness of {}, and kurtosis of {}'.format(stats.describe(comm['Reviews'])[-2],stats.describe(comm['Reviews'])[-1]))\n",
        "print('The non-communication reviews distribution has skewness of {}, and kurtosis of {}'.format(stats.describe(not_comm['Reviews'])[-2],stats.describe(not_comm['Reviews'])[-1]))"
      ],
      "execution_count": null,
      "outputs": [
        {
          "output_type": "stream",
          "text": [
            "The communication reviews distribution has skewness of 6.11625937558819, and kurtosis of 39.70572773251791\n",
            "The non-communication reviews distribution has skewness of 16.568860835934515, and kurtosis of 367.41410908875406\n"
          ],
          "name": "stdout"
        }
      ]
    },
    {
      "cell_type": "code",
      "metadata": {
        "colab": {
          "background_save": true
        },
        "id": "AwEwXYd0YjP8",
        "outputId": "9e9608b6-9229-479c-b9b1-a83b360685db"
      },
      "source": [
        "print(stats.shapiro(comm['Reviews']))\n",
        "print(stats.shapiro(not_comm['Reviews']))"
      ],
      "execution_count": null,
      "outputs": [
        {
          "output_type": "stream",
          "text": [
            "(0.28630173206329346, 1.2239170957299846e-33)\n",
            "(0.1377582550048828, 0.0)\n"
          ],
          "name": "stdout"
        }
      ]
    },
    {
      "cell_type": "markdown",
      "metadata": {
        "id": "I37aJ_ebYjP8"
      },
      "source": [
        "Both reviews distributions have a skew and kurtosis which are outside of the accepted range for normality. Both failed the Shapiro-Wilk test as well, so we can't use a regular t-test. Instead, we will use the Kruskal-Wallis test."
      ]
    },
    {
      "cell_type": "code",
      "metadata": {
        "colab": {
          "background_save": true
        },
        "id": "MH-nrTygYjP8",
        "outputId": "1274209d-2dcb-42c1-e652-2f4b27e09f7b"
      },
      "source": [
        "stats.kruskal(comm['Reviews'], not_comm['Reviews'])"
      ],
      "execution_count": null,
      "outputs": [
        {
          "output_type": "execute_result",
          "data": {
            "text/plain": [
              "KruskalResult(statistic=55.68066609200533, pvalue=8.5252613980522e-14)"
            ]
          },
          "metadata": {
            "tags": []
          },
          "execution_count": 0
        }
      ]
    },
    {
      "cell_type": "markdown",
      "metadata": {
        "id": "zB_BpwrqYjP9"
      },
      "source": [
        "Our p-value is <0.05, and so we can confirm that there is a statistically significant difference in the reviews for the communication category."
      ]
    },
    {
      "cell_type": "code",
      "metadata": {
        "id": "Uwo7T0uB45K9"
      },
      "source": [
        "cat_reviews = sample(5000, comm, not_comm, 'Reviews', 'Communication Reviews Avg', 'Non-Communications Reviews Avg')\n",
        "plt.figure(figsize=(10,5))\n",
        "cat_reviews.plot()"
      ],
      "execution_count": null,
      "outputs": []
    },
    {
      "cell_type": "code",
      "metadata": {
        "id": "m0IW9PHr45K-"
      },
      "source": [
        "plt.figure(figsize=(10,5))\n",
        "sample_replot(cat_reviews)"
      ],
      "execution_count": null,
      "outputs": []
    },
    {
      "cell_type": "code",
      "metadata": {
        "id": "xBUMoT5G45K-"
      },
      "source": [
        "print('After randomly sampling 5000 times, the average difference between the two groups is is {}'.format(round(cat_reviews.iloc[-1][0] - cat_reviews.iloc[-1][1])))"
      ],
      "execution_count": null,
      "outputs": []
    },
    {
      "cell_type": "markdown",
      "metadata": {
        "id": "YKivKXaBwf0F"
      },
      "source": [
        "This tells us that the average Communication app has, on average, around 2 million more reviews than other apps. This seems like a huge difference - and it is. It seems like the incredibly popular Communication apps, such as Facebook Messenger, WhatsApp and others really pulled the average number of reviews up."
      ]
    },
    {
      "cell_type": "markdown",
      "metadata": {
        "id": "wYMMJMSIwFCJ"
      },
      "source": [
        "## Identifying and Testing Best Performing App Categories: Installs"
      ]
    },
    {
      "cell_type": "code",
      "metadata": {
        "id": "a0amJHYis03e"
      },
      "source": [
        "avgs.sort_values(by = 'Installs', ascending = False).head(5)"
      ],
      "execution_count": null,
      "outputs": []
    },
    {
      "cell_type": "code",
      "metadata": {
        "id": "_OpDS_wqthpa"
      },
      "source": [
        "plt.figure(figsize=(15,10))\n",
        "sns.boxplot(y =\"Installs\", x=\"Category\", data=apps, showmeans=True, meanprops={\"marker\":\"o\", \"markerfacecolor\":\"white\", \"markeredgecolor\":\"black\", \"markersize\":\"7.5\"})\n",
        "plt.yscale('log')\n",
        "plt.xticks(rotation=90)"
      ],
      "execution_count": null,
      "outputs": []
    },
    {
      "cell_type": "markdown",
      "metadata": {
        "id": "ORQZ4mYJxJ6T"
      },
      "source": [
        "We can see that the Communication category has the highest average number of reviews."
      ]
    },
    {
      "cell_type": "code",
      "metadata": {
        "id": "0nXaz0XpHXo2"
      },
      "source": [
        "plt.figure(figsize=(10,5))\n",
        "sns.boxplot(x='Installs', y=\"Category\", data=apps_comm, showmeans=True, meanprops={\"marker\":\"o\", \"markerfacecolor\":\"white\", \"markeredgecolor\":\"black\", \"markersize\":\"7.5\"})\n",
        "plt.xscale('log')"
      ],
      "execution_count": null,
      "outputs": []
    },
    {
      "cell_type": "markdown",
      "metadata": {
        "id": "WJ6RJHyNxveE"
      },
      "source": [
        "Again we can see the distributions for Communication vs. non-Communication apps, but this time for Install count."
      ]
    },
    {
      "cell_type": "code",
      "metadata": {
        "id": "V6O6CaCOHXo3"
      },
      "source": [
        "plt.figure(figsize=(10,5))\n",
        "sns.kdeplot(data=apps_comm, x='Installs', hue = 'Category', common_norm=False)\n",
        "plt.xscale('log')"
      ],
      "execution_count": null,
      "outputs": []
    },
    {
      "cell_type": "code",
      "metadata": {
        "id": "CnZqqjxGZ3DR"
      },
      "source": [
        "print('The communication reviews distribution has skewness of {}, and kurtosis of {}'.format(stats.describe(comm['Installs'])[-2],stats.describe(comm['Installs'])[-1]))\n",
        "print('The non-communication reviews distribution has skewness of {}, and kurtosis of {}'.format(stats.describe(not_comm['Installs'])[-2],stats.describe(not_comm['Installs'])[-1]))"
      ],
      "execution_count": null,
      "outputs": []
    },
    {
      "cell_type": "code",
      "metadata": {
        "id": "l_k23V8FZ3DR"
      },
      "source": [
        "print(stats.shapiro(comm['Installs']))\n",
        "print(stats.shapiro(not_comm['Installs']))"
      ],
      "execution_count": null,
      "outputs": []
    },
    {
      "cell_type": "markdown",
      "metadata": {
        "id": "LQBQmXFyZ3DR"
      },
      "source": [
        "Non-communication app installs has a skew outside of normal range and both installs distributions have kurtosis which is outside of the accepted range for normality. Both failed the Shapiro-Wilk test as well, so we can't use a regular t-test."
      ]
    },
    {
      "cell_type": "code",
      "metadata": {
        "id": "mJZZHZfdZ3DR"
      },
      "source": [
        "stats.kruskal(comm['Installs'], not_comm['Installs'])"
      ],
      "execution_count": null,
      "outputs": []
    },
    {
      "cell_type": "markdown",
      "metadata": {
        "id": "DYWpUKibZ3DR"
      },
      "source": [
        "Our p-value is <0.05, and so we can confirm that there is a statistically significant difference in the installs for the communication category."
      ]
    },
    {
      "cell_type": "code",
      "metadata": {
        "id": "4p2Dwv1k5a_w"
      },
      "source": [
        "cat_installs = sample(5000, comm, not_comm, 'Installs', 'Communication Installs Avg', 'Non-Communications Installs Avg')\n",
        "plt.figure(figsize=(10,5))\n",
        "cat_installs.plot()"
      ],
      "execution_count": null,
      "outputs": []
    },
    {
      "cell_type": "code",
      "metadata": {
        "id": "LRueCqkM5a_x"
      },
      "source": [
        "plt.figure(figsize=(10,5))\n",
        "sample_replot(cat_installs)"
      ],
      "execution_count": null,
      "outputs": []
    },
    {
      "cell_type": "code",
      "metadata": {
        "id": "nieYKTqr5a_x"
      },
      "source": [
        "print('After randomly sampling 5000 times, the average difference between the two groups is {}'.format(round(cat_installs.iloc[-1][0] - cat_installs.iloc[-1][1])))"
      ],
      "execution_count": null,
      "outputs": []
    },
    {
      "cell_type": "markdown",
      "metadata": {
        "id": "5CryPW6IyZMd"
      },
      "source": [
        "Again, we find a huge difference between the two groups, most likely caused by the massive outlier apps like Facebook Messenger and WhatsApp."
      ]
    },
    {
      "cell_type": "markdown",
      "metadata": {
        "id": "DS8cNnRLwHbg"
      },
      "source": [
        "## Identifying and Testing Best Performing App Categories: RPI"
      ]
    },
    {
      "cell_type": "code",
      "metadata": {
        "id": "VX4M2O5is3eU"
      },
      "source": [
        "avgs.sort_values(by = 'RPI', ascending = False).head(5)"
      ],
      "execution_count": null,
      "outputs": []
    },
    {
      "cell_type": "code",
      "metadata": {
        "id": "KXfRqZN7tlBe"
      },
      "source": [
        "plt.figure(figsize=(15,10))\n",
        "sns.boxplot(y=\"RPI\", x=\"Category\", data=apps, showmeans=True, meanprops={\"marker\":\"o\", \"markerfacecolor\":\"white\", \"markeredgecolor\":\"black\", \"markersize\":\"7.5\"})\n",
        "plt.yscale('log')\n",
        "plt.xticks(rotation=90)"
      ],
      "execution_count": null,
      "outputs": []
    },
    {
      "cell_type": "markdown",
      "metadata": {
        "id": "lEGT9qRAxN1l"
      },
      "source": [
        "We can see that the Game category has the highest average RPI."
      ]
    },
    {
      "cell_type": "code",
      "metadata": {
        "id": "cLc64E_2_EmM"
      },
      "source": [
        "apps_games = apps.copy(deep=True)\n",
        "\n",
        "for index in apps_games.index:\n",
        "  if apps_games.loc[index, 'Category'] != 'GAME':\n",
        "    apps_games.loc[index, 'Category'] = 'NOT GAME'\n",
        "apps_games.groupby(['Category']).agg(['count'])"
      ],
      "execution_count": null,
      "outputs": []
    },
    {
      "cell_type": "code",
      "metadata": {
        "id": "-9GAgk01Hd7M"
      },
      "source": [
        "plt.figure(figsize=(10,5))\n",
        "sns.boxplot(x='RPI', y=\"Category\", data=apps_games, showmeans=True, meanprops={\"marker\":\"o\", \"markerfacecolor\":\"white\", \"markeredgecolor\":\"black\", \"markersize\":\"7.5\"})\n",
        "plt.xscale('log')"
      ],
      "execution_count": null,
      "outputs": []
    },
    {
      "cell_type": "markdown",
      "metadata": {
        "id": "gCk-VIL7ytnb"
      },
      "source": [
        "Again, we can see the distributions above and below."
      ]
    },
    {
      "cell_type": "code",
      "metadata": {
        "id": "omyq33h0Hd7M"
      },
      "source": [
        "plt.figure(figsize=(10,5))\n",
        "sns.kdeplot(data=apps_games, x='RPI', hue = 'Category', common_norm=False)\n",
        "plt.xscale('log')"
      ],
      "execution_count": null,
      "outputs": []
    },
    {
      "cell_type": "code",
      "metadata": {
        "id": "prEp651Jav8g"
      },
      "source": [
        "game = apps[apps['Category'] == 'GAME']\n",
        "not_game = apps[apps['Category'] != 'GAME']"
      ],
      "execution_count": null,
      "outputs": []
    },
    {
      "cell_type": "code",
      "metadata": {
        "id": "IBQd5Atiav8g"
      },
      "source": [
        "print('The game RPI distribution has skewness of {}, and kurtosis of {}'.format(stats.describe(game['RPI'])[-2],stats.describe(game['RPI'])[-1]))\n",
        "print('The non-game RPI distribution has skewness of {}, and kurtosis of {}'.format(stats.describe(not_game['RPI'])[-2],stats.describe(not_game['RPI'])[-1]))"
      ],
      "execution_count": null,
      "outputs": []
    },
    {
      "cell_type": "code",
      "metadata": {
        "id": "rO9oD_TOav8g"
      },
      "source": [
        "print(stats.shapiro(game['RPI']))\n",
        "print(stats.shapiro(not_game['RPI']))"
      ],
      "execution_count": null,
      "outputs": []
    },
    {
      "cell_type": "markdown",
      "metadata": {
        "id": "vz8vA6Rnav8g"
      },
      "source": [
        "Both rating distributions have a skew and kurtosis which are outside of the accepted range for normality. Both failed the Shapiro-Wilk test as well, so we can't use a regular t-test."
      ]
    },
    {
      "cell_type": "code",
      "metadata": {
        "id": "P-tS45uCav8h"
      },
      "source": [
        "stats.kruskal(game['RPI'], not_game['RPI'])"
      ],
      "execution_count": null,
      "outputs": []
    },
    {
      "cell_type": "markdown",
      "metadata": {
        "id": "QW2r5ncEav8h"
      },
      "source": [
        "Our p-value is <0.05, and so we can confirm that there is a statistically significant difference in the reviews for the communication category."
      ]
    },
    {
      "cell_type": "code",
      "metadata": {
        "id": "W3YzFfvc6II6"
      },
      "source": [
        "cat_RPI = sample(5000, game, not_game, 'RPI', 'Game RPI Avg', 'Non-Game RPI Avg')\n",
        "plt.figure(figsize=(10,5))\n",
        "cat_RPI.plot()"
      ],
      "execution_count": null,
      "outputs": []
    },
    {
      "cell_type": "code",
      "metadata": {
        "id": "DcuBbVgo6II6"
      },
      "source": [
        "plt.figure(figsize=(10,5))\n",
        "sample_replot(cat_RPI)"
      ],
      "execution_count": null,
      "outputs": []
    },
    {
      "cell_type": "code",
      "metadata": {
        "id": "dY4p76Dn6II6"
      },
      "source": [
        "print('After randomly sampling 5000 times, the average difference between the two groups is {}'.format(cat_RPI.iloc[-1][0] - cat_RPI.iloc[-1][1]))"
      ],
      "execution_count": null,
      "outputs": []
    },
    {
      "cell_type": "code",
      "metadata": {
        "id": "3wgfuUJFzMkO"
      },
      "source": [
        "cat_RPI_dif = cat_RPI.iloc[-1][0] - cat_RPI.iloc[-1][1]\n",
        "cat_RPI_val = round((cat_RPI_dif/cat_RPI.iloc[-1][1])*100,2)"
      ],
      "execution_count": null,
      "outputs": []
    },
    {
      "cell_type": "code",
      "metadata": {
        "id": "qwkxwub_y0w8"
      },
      "source": [
        "print('While that number might not make sense on its own, this means that each installer of a Gaming app was {}% more likely to write a review.'.format(cat_RPI_val))"
      ],
      "execution_count": null,
      "outputs": []
    },
    {
      "cell_type": "markdown",
      "metadata": {
        "id": "TR1ZuQUTRF6h"
      },
      "source": [
        "# Assessing App Success by Content Rating\n"
      ]
    },
    {
      "cell_type": "markdown",
      "metadata": {
        "id": "7Jfhny4yygBF"
      },
      "source": [
        "## Identifying Different Content Ratings"
      ]
    },
    {
      "cell_type": "code",
      "metadata": {
        "id": "Q181Gt1EQdPq"
      },
      "source": [
        "for i in range(len(apps['Content Rating'].unique())):\n",
        "  print(i+1,\"-\", apps['Content Rating'].unique()[i])"
      ],
      "execution_count": null,
      "outputs": []
    },
    {
      "cell_type": "code",
      "metadata": {
        "id": "7FfNChZMQpNu"
      },
      "source": [
        "apps.groupby(['Content Rating']).agg(['count'])"
      ],
      "execution_count": null,
      "outputs": []
    },
    {
      "cell_type": "markdown",
      "metadata": {
        "id": "YS7ISbsvTfjI"
      },
      "source": [
        "Unrated Apps and 18+ Apps have too few instances to show conclusive data, and therefore we need to drop them."
      ]
    },
    {
      "cell_type": "code",
      "metadata": {
        "id": "EVXxgkjqTuOb"
      },
      "source": [
        "cr = apps[apps['Content Rating'] != 'Unrated']\n",
        "cr = cr[cr['Content Rating'] != 'Adults only 18+']\n",
        "cr.groupby(['Content Rating']).agg(['count'])"
      ],
      "execution_count": null,
      "outputs": []
    },
    {
      "cell_type": "code",
      "metadata": {
        "id": "L9UnhGldzY4y"
      },
      "source": [
        "cr_avgs = cr.groupby(['Content Rating']).mean()\n",
        "cr_avgs"
      ],
      "execution_count": null,
      "outputs": []
    },
    {
      "cell_type": "markdown",
      "metadata": {
        "id": "K1wU2rk5zZ1_"
      },
      "source": [
        "We can see that apps with the 'Everyone 10+' content rating performs the best in all success indicators."
      ]
    },
    {
      "cell_type": "markdown",
      "metadata": {
        "id": "nVPnGRzVgY47"
      },
      "source": [
        "## Identifying and Testing Best Performing App Content Ratings: Rating"
      ]
    },
    {
      "cell_type": "code",
      "metadata": {
        "id": "C2i-G-NGXhik"
      },
      "source": [
        "for index in cr.index:\n",
        "  if cr.loc[index, 'Content Rating'] != 'Everyone 10+':\n",
        "    cr.loc[index,'Content Rating'] = 'Not Everyone 10+'\n",
        "cr.groupby(['Content Rating']).agg(['count'])"
      ],
      "execution_count": null,
      "outputs": []
    },
    {
      "cell_type": "code",
      "metadata": {
        "id": "0qa-YkTjbiAW"
      },
      "source": [
        "plt.figure(figsize=(10,5))\n",
        "sns.boxplot(y=\"Content Rating\", x=\"Rating\", data=cr, showmeans=True, meanprops={\"marker\":\"o\", \"markerfacecolor\":\"white\", \"markeredgecolor\":\"black\", \"markersize\":\"7.5\"})"
      ],
      "execution_count": null,
      "outputs": []
    },
    {
      "cell_type": "code",
      "metadata": {
        "id": "FJE8e2EgbpBG"
      },
      "source": [
        "plt.figure(figsize=(10,5))\n",
        "sns.kdeplot(data=cr, x=\"Rating\", hue = 'Content Rating', common_norm=False)"
      ],
      "execution_count": null,
      "outputs": []
    },
    {
      "cell_type": "markdown",
      "metadata": {
        "id": "aGAJ0-W54KTD"
      },
      "source": [
        "This seems like the data is fairly consistent between the two groups."
      ]
    },
    {
      "cell_type": "code",
      "metadata": {
        "id": "kkpQy6NWQrJc"
      },
      "source": [
        "e_10 = cr[cr['Content Rating'] == 'Everyone 10+']\n",
        "not_e_10 = cr[cr['Content Rating'] != 'Everyone 10+']"
      ],
      "execution_count": null,
      "outputs": []
    },
    {
      "cell_type": "code",
      "metadata": {
        "id": "LKjuLVMCQrJc"
      },
      "source": [
        "print('The \\'Everyone 10+\\' rating distribution has skewness of {}, and kurtosis of {}'.format(stats.describe(e_10['Rating'])[-2],stats.describe(e_10['Rating'])[-1]))\n",
        "print('The rating distribution for the other content ratings has skewness of {}, and kurtosis of {}'.format(stats.describe(not_e_10['Rating'])[-2],stats.describe(not_e_10['Rating'])[-1]))"
      ],
      "execution_count": null,
      "outputs": []
    },
    {
      "cell_type": "markdown",
      "metadata": {
        "id": "a6edoBcaRQVV"
      },
      "source": [
        "These both have kurtosis outside of the acceptable range for normality."
      ]
    },
    {
      "cell_type": "code",
      "metadata": {
        "id": "YqV3_mY7QrJd"
      },
      "source": [
        "print(stats.shapiro(e_10['Rating']))\n",
        "print(stats.shapiro(not_e_10['Rating']))"
      ],
      "execution_count": null,
      "outputs": []
    },
    {
      "cell_type": "markdown",
      "metadata": {
        "id": "Xp9xkRN3VSF_"
      },
      "source": [
        "We can see that both distributions are non-normal, since both failed the Shapiro-Wilk test, therefore we can't use a regular t-test."
      ]
    },
    {
      "cell_type": "code",
      "metadata": {
        "id": "kgrekbS-VSF_"
      },
      "source": [
        "stats.kruskal(e_10['Rating'], not_e_10['Rating'])"
      ],
      "execution_count": null,
      "outputs": []
    },
    {
      "cell_type": "markdown",
      "metadata": {
        "id": "NAUt_h1wVZIF"
      },
      "source": [
        "The p-value is higher than our set 0.05, and therefore there isn't a statistically significant rating difference between Everyone 10+ apps and others."
      ]
    },
    {
      "cell_type": "markdown",
      "metadata": {
        "id": "pY75MLn1gkkZ"
      },
      "source": [
        "## Identifying and Testing Best Performing App Content Ratings: Reviews"
      ]
    },
    {
      "cell_type": "code",
      "metadata": {
        "id": "WyZldEK5Zs9s"
      },
      "source": [
        "plt.figure(figsize=(10,5))\n",
        "sns.boxplot(y='Content Rating', x=\"Reviews\", data=cr, showmeans=True, meanprops={\"marker\":\"o\", \"markerfacecolor\":\"white\", \"markeredgecolor\":\"black\", \"markersize\":\"7.5\"})\n",
        "plt.xscale('log')"
      ],
      "execution_count": null,
      "outputs": []
    },
    {
      "cell_type": "code",
      "metadata": {
        "id": "3Jp4Nm_qZyQh"
      },
      "source": [
        "plt.figure(figsize=(10,5))\n",
        "sns.kdeplot(data=cr, x='Reviews', hue = 'Content Rating', common_norm=False)\n",
        "plt.xscale('log')"
      ],
      "execution_count": null,
      "outputs": []
    },
    {
      "cell_type": "code",
      "metadata": {
        "id": "MEWyrsYTcE_d"
      },
      "source": [
        "print('The \\'Everyone 10+\\' reviews distribution has skewness of {}, and kurtosis of {}'.format(stats.describe(e_10['Reviews'])[-2],stats.describe(e_10['Reviews'])[-1]))\n",
        "print('The reviews distribution for the other content ratings has skewness of {}, and kurtosis of {}'.format(stats.describe(not_e_10['Reviews'])[-2],stats.describe(not_e_10['Reviews'])[-1]))"
      ],
      "execution_count": null,
      "outputs": []
    },
    {
      "cell_type": "code",
      "metadata": {
        "id": "YhOHv0PHcE_d"
      },
      "source": [
        "print(stats.shapiro(e_10['Reviews']))\n",
        "print(stats.shapiro(not_e_10['Reviews']))"
      ],
      "execution_count": null,
      "outputs": []
    },
    {
      "cell_type": "markdown",
      "metadata": {
        "id": "NGCp7iqZcE_e"
      },
      "source": [
        "Both reviews distributions have a skew and kurtosis which are outside of the accepted range for normality. Both failed the Shapiro-Wilk test as well, so we can't use a regular t-test."
      ]
    },
    {
      "cell_type": "code",
      "metadata": {
        "id": "u82-c0lkcE_e"
      },
      "source": [
        "stats.kruskal(e_10['Reviews'], not_e_10['Reviews'])"
      ],
      "execution_count": null,
      "outputs": []
    },
    {
      "cell_type": "markdown",
      "metadata": {
        "id": "epIcX28ocE_e"
      },
      "source": [
        "Our p-value is <0.05, and so we can confirm that there is a statistically significant difference in the reviews for the \"Everyone 10+' content rating."
      ]
    },
    {
      "cell_type": "code",
      "metadata": {
        "id": "4Dv9ggdy6jH7"
      },
      "source": [
        "cr_reviews = sample(5000, e_10, not_e_10, 'Reviews', 'Everyone 10+ Reviews Avg', 'Other Content Rating Reviews Avg')\n",
        "plt.figure(figsize=(10,5))\n",
        "cr_reviews.plot()"
      ],
      "execution_count": null,
      "outputs": []
    },
    {
      "cell_type": "code",
      "metadata": {
        "id": "xo86itNm6jH8"
      },
      "source": [
        "plt.figure(figsize=(10,5))\n",
        "sample_replot(cr_reviews)"
      ],
      "execution_count": null,
      "outputs": []
    },
    {
      "cell_type": "code",
      "metadata": {
        "id": "q-1-c8B86jH8"
      },
      "source": [
        "print('After randomly sampling 5000 times, the average difference between the two groups is {}'.format(round(cr_reviews.iloc[-1][0] - cr_reviews.iloc[-1][1])))"
      ],
      "execution_count": null,
      "outputs": []
    },
    {
      "cell_type": "markdown",
      "metadata": {
        "id": "2lWnuKIlgzbI"
      },
      "source": [
        "## Identifying and Testing Best Performing App Content Ratings: Installs"
      ]
    },
    {
      "cell_type": "code",
      "metadata": {
        "id": "JwdAgBreZF1z"
      },
      "source": [
        "plt.figure(figsize=(10,5))\n",
        "sns.boxplot(y='Content Rating', x=\"Installs\", data=cr, showmeans=True, meanprops={\"marker\":\"o\", \"markerfacecolor\":\"white\", \"markeredgecolor\":\"black\", \"markersize\":\"7.5\"})\n",
        "plt.xscale('log')"
      ],
      "execution_count": null,
      "outputs": []
    },
    {
      "cell_type": "code",
      "metadata": {
        "id": "NtwVo0r9ZJ2n"
      },
      "source": [
        "plt.figure(figsize=(10,5))\n",
        "sns.kdeplot(data=cr, x='Installs', hue = 'Content Rating', common_norm=False)\n",
        "plt.xscale('log')"
      ],
      "execution_count": null,
      "outputs": []
    },
    {
      "cell_type": "code",
      "metadata": {
        "id": "44_YhdZMc2Hx"
      },
      "source": [
        "print('The \\'Everyone 10+\\' installs distribution has skewness of {}, and kurtosis of {}'.format(stats.describe(e_10['Installs'])[-2],stats.describe(e_10['Installs'])[-1]))\n",
        "print('The installs distribution for the other content ratings has skewness of {}, and kurtosis of {}'.format(stats.describe(not_e_10['Installs'])[-2],stats.describe(not_e_10['Installs'])[-1]))"
      ],
      "execution_count": null,
      "outputs": []
    },
    {
      "cell_type": "code",
      "metadata": {
        "id": "Q6CMLG15c2Hx"
      },
      "source": [
        "print(stats.shapiro(e_10['Installs']))\n",
        "print(stats.shapiro(not_e_10['Installs']))"
      ],
      "execution_count": null,
      "outputs": []
    },
    {
      "cell_type": "markdown",
      "metadata": {
        "id": "7qR3jB4Sc2Hx"
      },
      "source": [
        "Both reviews distributions have a skew and kurtosis which are outside of the accepted range for normality. Both failed the Shapiro-Wilk test as well, so we can't use a regular t-test."
      ]
    },
    {
      "cell_type": "code",
      "metadata": {
        "id": "hsqnMagjc2Hx"
      },
      "source": [
        "stats.kruskal(e_10['Installs'], not_e_10['Installs'])"
      ],
      "execution_count": null,
      "outputs": []
    },
    {
      "cell_type": "markdown",
      "metadata": {
        "id": "1UXrzKTDc2Hx"
      },
      "source": [
        "Our p-value is <0.05, and so we can confirm that there is a statistically significant difference in the installs for the \"Everyone 10+' content rating."
      ]
    },
    {
      "cell_type": "code",
      "metadata": {
        "id": "L3_JxvNZ6_8K"
      },
      "source": [
        "cr_installs = sample(5000, e_10, not_e_10, 'Reviews', 'Everyone 10+ Installs Avg', 'Other Content Rating Installs Avg')\n",
        "plt.figure(figsize=(10,5))\n",
        "cr_installs.plot()"
      ],
      "execution_count": null,
      "outputs": []
    },
    {
      "cell_type": "code",
      "metadata": {
        "id": "lEcLbIxm6_8K"
      },
      "source": [
        "plt.figure(figsize=(10,5))\n",
        "sample_replot(cr_installs)"
      ],
      "execution_count": null,
      "outputs": []
    },
    {
      "cell_type": "code",
      "metadata": {
        "id": "ytbt5Jsz6_8K"
      },
      "source": [
        "print('After randomly sampling 5000 times, the average difference between the two groups is {}'.format(round(cr_installs.iloc[-1][0] - cr_installs.iloc[-1][1])))"
      ],
      "execution_count": null,
      "outputs": []
    },
    {
      "cell_type": "markdown",
      "metadata": {
        "id": "WqhPKgSNg965"
      },
      "source": [
        "## Identifying and Testing Best Performing App Content Ratings: RPI"
      ]
    },
    {
      "cell_type": "code",
      "metadata": {
        "id": "oRzNfq9QTSRs"
      },
      "source": [
        "plt.figure(figsize=(10,5))\n",
        "sns.boxplot(y='Content Rating', x=\"RPI\", data=cr, showmeans=True, meanprops={\"marker\":\"o\", \"markerfacecolor\":\"white\", \"markeredgecolor\":\"black\", \"markersize\":\"7.5\"})\n",
        "plt.xscale('log')"
      ],
      "execution_count": null,
      "outputs": []
    },
    {
      "cell_type": "markdown",
      "metadata": {
        "id": "Ub4vApx41iAc"
      },
      "source": [
        "Here are the distributions of Everyone 10+ vs. Other Content Ratings for RPI."
      ]
    },
    {
      "cell_type": "code",
      "metadata": {
        "id": "aBLEO06saM7B"
      },
      "source": [
        "plt.figure(figsize=(10,5))\n",
        "sns.kdeplot(data=cr, x=\"RPI\", hue = 'Content Rating', common_norm=False)\n",
        "plt.xscale('log')"
      ],
      "execution_count": null,
      "outputs": []
    },
    {
      "cell_type": "code",
      "metadata": {
        "id": "nNAU6U_1dKvI"
      },
      "source": [
        "print('The \\'Everyone 10+\\' RPI distribution has skewness of {}, and kurtosis of {}'.format(stats.describe(e_10['RPI'])[-2],stats.describe(e_10['RPI'])[-1]))\n",
        "print('The RPI distribution for the other content ratings has skewness of {}, and kurtosis of {}'.format(stats.describe(not_e_10['RPI'])[-2],stats.describe(not_e_10['RPI'])[-1]))"
      ],
      "execution_count": null,
      "outputs": []
    },
    {
      "cell_type": "code",
      "metadata": {
        "id": "9C2eexUXdKvI"
      },
      "source": [
        "print(stats.shapiro(e_10['RPI']))\n",
        "print(stats.shapiro(not_e_10['RPI']))"
      ],
      "execution_count": null,
      "outputs": []
    },
    {
      "cell_type": "markdown",
      "metadata": {
        "id": "pl5n_86zdKvI"
      },
      "source": [
        "Both reviews distributions have a skew and kurtosis which are outside of the accepted range for normality. Both failed the Shapiro-Wilk test as well, so we can't use a regular t-test."
      ]
    },
    {
      "cell_type": "code",
      "metadata": {
        "id": "_n697aPhdKvI"
      },
      "source": [
        "stats.kruskal(e_10['RPI'], not_e_10['RPI'])"
      ],
      "execution_count": null,
      "outputs": []
    },
    {
      "cell_type": "markdown",
      "metadata": {
        "id": "qhQDY48ddKvI"
      },
      "source": [
        "Our p-value is <0.05, and so we can confirm that there is a statistically significant difference in the RPI for the \"Everyone 10+' content rating."
      ]
    },
    {
      "cell_type": "code",
      "metadata": {
        "id": "N4D-4QEe7PHq"
      },
      "source": [
        "cr_RPI = sample(5000, e_10, not_e_10, 'RPI', 'Everyone 10+ RPI Avg', 'Other Content Rating RPI Avg')\n",
        "plt.figure(figsize=(10,5))\n",
        "cr_RPI.plot()"
      ],
      "execution_count": null,
      "outputs": []
    },
    {
      "cell_type": "code",
      "metadata": {
        "id": "iPEUdV6o7PHq"
      },
      "source": [
        "plt.figure(figsize=(10,5))\n",
        "sample_replot(cr_RPI)"
      ],
      "execution_count": null,
      "outputs": []
    },
    {
      "cell_type": "code",
      "metadata": {
        "id": "eLqZ-t4T7PHq"
      },
      "source": [
        "print('After randomly sampling 5000 times, the average difference between the two groups is {}'.format(cr_RPI.iloc[-1][0] - cr_RPI.iloc[-1][1]))"
      ],
      "execution_count": null,
      "outputs": []
    },
    {
      "cell_type": "code",
      "metadata": {
        "id": "YO-32o-t0l1W"
      },
      "source": [
        "print(cr_RPI.iloc[-1][0])\n",
        "print(cr_RPI.iloc[-1][1])"
      ],
      "execution_count": null,
      "outputs": []
    },
    {
      "cell_type": "code",
      "metadata": {
        "id": "hLZrzJn91whg"
      },
      "source": [
        "cr_RPI_dif = cr_RPI.iloc[-1][0] - cr_RPI.iloc[-1][1]\n",
        "cr_RPI_val = round((cr_RPI_dif/cr_RPI.iloc[-1][1])*100,2)"
      ],
      "execution_count": null,
      "outputs": []
    },
    {
      "cell_type": "code",
      "metadata": {
        "id": "K2hD1-2g1whg"
      },
      "source": [
        "print('While that number might not make sense on its own, this means that each installer of a Everyone 10+ app was {}% more likely to write a review.'.format(cr_RPI_val))"
      ],
      "execution_count": null,
      "outputs": []
    },
    {
      "cell_type": "markdown",
      "metadata": {
        "id": "w1WCChF9Rwun"
      },
      "source": [
        "# Assessing App Success by App Type: Free vs. Paid"
      ]
    },
    {
      "cell_type": "code",
      "metadata": {
        "id": "rwr6cDBlR2rG"
      },
      "source": [
        "for i in range(len(apps['Type'].unique())):\n",
        "  print(i+1,\"-\", apps['Type'].unique()[i])"
      ],
      "execution_count": null,
      "outputs": []
    },
    {
      "cell_type": "code",
      "metadata": {
        "id": "FsT3felbR49-"
      },
      "source": [
        "apps.groupby(['Type']).agg(['count'])"
      ],
      "execution_count": null,
      "outputs": []
    },
    {
      "cell_type": "markdown",
      "metadata": {
        "id": "BMFe4Sc4fio9"
      },
      "source": [
        "No cleaning necessary here, there are enough instances in each group."
      ]
    },
    {
      "cell_type": "code",
      "metadata": {
        "id": "h8bLPOfApsVd"
      },
      "source": [
        "apps.groupby(['Type']).agg(['mean'])"
      ],
      "execution_count": null,
      "outputs": []
    },
    {
      "cell_type": "markdown",
      "metadata": {
        "id": "mzMFtXJDhOYP"
      },
      "source": [
        "## Identifying and Testing Best Performing App Type: Rating"
      ]
    },
    {
      "cell_type": "code",
      "metadata": {
        "id": "sSGBtTzrSAmU"
      },
      "source": [
        "plt.figure(figsize=(10,5))\n",
        "sns.boxplot(x=\"Rating\", y=\"Type\", data=apps, showmeans=True, meanprops={\"marker\":\"o\", \"markerfacecolor\":\"white\", \"markeredgecolor\":\"black\", \"markersize\":\"7.5\"})"
      ],
      "execution_count": null,
      "outputs": []
    },
    {
      "cell_type": "code",
      "metadata": {
        "id": "Ws_nDypjfwgW"
      },
      "source": [
        "plt.figure(figsize=(10,5))\n",
        "sns.kdeplot(data=apps, x=\"Rating\", hue='Type', common_norm=False)"
      ],
      "execution_count": null,
      "outputs": []
    },
    {
      "cell_type": "code",
      "metadata": {
        "id": "9v-rKLD9Rrwv"
      },
      "source": [
        "free = apps[apps['Type'] == 'Free']\n",
        "paid = apps[apps['Type'] == 'Paid']"
      ],
      "execution_count": null,
      "outputs": []
    },
    {
      "cell_type": "code",
      "metadata": {
        "id": "MhCp4uipRrww"
      },
      "source": [
        "print('The free app rating distribution has skewness of {}, and kurtosis of {}'.format(stats.describe(free['Rating'])[-2],stats.describe(free['Rating'])[-1]))\n",
        "print('The paid app rating distribution has skewness of {}, and kurtosis of {}'.format(stats.describe(paid['Rating'])[-2],stats.describe(paid['Rating'])[-1]))"
      ],
      "execution_count": null,
      "outputs": []
    },
    {
      "cell_type": "markdown",
      "metadata": {
        "id": "-cEVBudpRrww"
      },
      "source": [
        "These both have kurtosis outside of the acceptable range for normality."
      ]
    },
    {
      "cell_type": "code",
      "metadata": {
        "id": "UwLYf1VBRrww"
      },
      "source": [
        "print(stats.shapiro(free['Rating']))\n",
        "print(stats.shapiro(paid['Rating']))"
      ],
      "execution_count": null,
      "outputs": []
    },
    {
      "cell_type": "markdown",
      "metadata": {
        "id": "F6yLf0uQVtqK"
      },
      "source": [
        "We can see that both distributions are non-normal, since both failed the Shapiro-Wilk test, therefore we can't use a regular t-test."
      ]
    },
    {
      "cell_type": "code",
      "metadata": {
        "id": "NhGhTvSVVtqK"
      },
      "source": [
        "stats.kruskal(free['Rating'], paid['Rating'])"
      ],
      "execution_count": null,
      "outputs": []
    },
    {
      "cell_type": "markdown",
      "metadata": {
        "id": "fKh8zPirVx_r"
      },
      "source": [
        "Here we can see the p-value is <0.05, and therefore there is a statistically significant difference in the ratings of free vs. paid apps."
      ]
    },
    {
      "cell_type": "code",
      "metadata": {
        "id": "lb_qz2rr7vt3"
      },
      "source": [
        "t_rat = sample(5000, free, paid, 'Rating', 'Free Ratings Avg', 'Paid Ratings Avg')\n",
        "plt.figure(figsize=(10,5))\n",
        "t_rat.plot()"
      ],
      "execution_count": null,
      "outputs": []
    },
    {
      "cell_type": "code",
      "metadata": {
        "id": "rnLti-2X7vt3"
      },
      "source": [
        "plt.figure(figsize=(10,5))\n",
        "sample_replot(t_rat)"
      ],
      "execution_count": null,
      "outputs": []
    },
    {
      "cell_type": "code",
      "metadata": {
        "id": "G4ryZvRI7vt4"
      },
      "source": [
        "print('After randomly sampling 5000 times, the average difference between the two groups is {}'.format(t_rat.iloc[-1][1] - t_rat.iloc[-1][0]))"
      ],
      "execution_count": null,
      "outputs": []
    },
    {
      "cell_type": "code",
      "metadata": {
        "id": "im9nNTyz4uZN"
      },
      "source": [
        "t_rat_dif = t_rat.iloc[-1][1] - t_rat.iloc[-1][0]\n",
        "t_rat_val = round((t_rat_dif/t_rat.iloc[-1][0])*100,2)"
      ],
      "execution_count": null,
      "outputs": []
    },
    {
      "cell_type": "code",
      "metadata": {
        "id": "iGF73X4E4dYH"
      },
      "source": [
        "print(\"We have found that average Paid app tend to be rated {} stars higher than the average Free app. Paid apps rate {}% higher.\".format(round(t_rat_dif,3), t_rat_val))"
      ],
      "execution_count": null,
      "outputs": []
    },
    {
      "cell_type": "markdown",
      "metadata": {
        "id": "CuoEhfTyhSb3"
      },
      "source": [
        "## Identifying and Testing Best Performing App Type: Reviews"
      ]
    },
    {
      "cell_type": "code",
      "metadata": {
        "id": "F70Pu3YUhbkY"
      },
      "source": [
        "plt.figure(figsize=(10,5))\n",
        "sns.boxplot(x='Reviews', y=\"Type\", data=apps, showmeans=True, meanprops={\"marker\":\"o\", \"markerfacecolor\":\"white\", \"markeredgecolor\":\"black\", \"markersize\":\"7.5\"})\n",
        "plt.xscale('log')"
      ],
      "execution_count": null,
      "outputs": []
    },
    {
      "cell_type": "code",
      "metadata": {
        "id": "nZqEb2r1hqT8"
      },
      "source": [
        "plt.figure(figsize=(10,5))\n",
        "sns.kdeplot(data=apps, x='Reviews', hue = 'Type', common_norm=False)\n",
        "plt.xscale('log')"
      ],
      "execution_count": null,
      "outputs": []
    },
    {
      "cell_type": "code",
      "metadata": {
        "id": "AZxyJywwdqVr"
      },
      "source": [
        "print('The free app reviews distribution has skewness of {}, and kurtosis of {}'.format(stats.describe(free['Reviews'])[-2],stats.describe(free['Reviews'])[-1]))\n",
        "print('The paid app reviews distribution has skewness of {}, and kurtosis of {}'.format(stats.describe(paid['Reviews'])[-2],stats.describe(paid['Reviews'])[-1]))"
      ],
      "execution_count": null,
      "outputs": []
    },
    {
      "cell_type": "code",
      "metadata": {
        "id": "nVtN1NaGdqVs"
      },
      "source": [
        "print(stats.shapiro(free['Reviews']))\n",
        "print(stats.shapiro(paid['Reviews']))"
      ],
      "execution_count": null,
      "outputs": []
    },
    {
      "cell_type": "markdown",
      "metadata": {
        "id": "L5jssT5bdqVs"
      },
      "source": [
        "Both reviews distributions have a skew and kurtosis which are outside of the accepted range for normality. Both failed the Shapiro-Wilk test as well, so we can't use a regular t-test."
      ]
    },
    {
      "cell_type": "code",
      "metadata": {
        "id": "CwSbx0J9dqVs"
      },
      "source": [
        "stats.kruskal(free['Reviews'], paid['Reviews'])"
      ],
      "execution_count": null,
      "outputs": []
    },
    {
      "cell_type": "markdown",
      "metadata": {
        "id": "y0gTOanwdqVs"
      },
      "source": [
        "Our p-value is <0.05, and so we can confirm that there is a statistically significant difference in the reviews for free vs. paid apps."
      ]
    },
    {
      "cell_type": "code",
      "metadata": {
        "id": "UO0RJRmo8LmC"
      },
      "source": [
        "t_rev = sample(5000, free, paid, 'Reviews', 'Free Reviews Avg', 'Paid Reviews Avg')\n",
        "plt.figure(figsize=(10,5))\n",
        "t_rev.plot()"
      ],
      "execution_count": null,
      "outputs": []
    },
    {
      "cell_type": "code",
      "metadata": {
        "id": "dBsyk7Q28LmD"
      },
      "source": [
        "plt.figure(figsize=(10,5))\n",
        "sample_replot(t_rev)"
      ],
      "execution_count": null,
      "outputs": []
    },
    {
      "cell_type": "markdown",
      "metadata": {
        "id": "k1iVtSF_AXMG"
      },
      "source": [
        "We can see that the free apps are incredibly variable, as they have a really wide distribution for reviews."
      ]
    },
    {
      "cell_type": "code",
      "metadata": {
        "id": "bJp9o9vu8LmD"
      },
      "source": [
        "print('After randomly sampling 5000 times, the average difference between the two groups is {}'.format(round(t_rev.iloc[-1][0] - t_rev.iloc[-1][1])))"
      ],
      "execution_count": null,
      "outputs": []
    },
    {
      "cell_type": "markdown",
      "metadata": {
        "id": "HhZkbPYXhVn0"
      },
      "source": [
        "## Identifying and Testing Best Performing App Type: Installs"
      ]
    },
    {
      "cell_type": "code",
      "metadata": {
        "id": "guWXQIG8h5X4"
      },
      "source": [
        "plt.figure(figsize=(10,5))\n",
        "sns.boxplot(x='Installs', y=\"Type\", data=apps, showmeans=True, meanprops={\"marker\":\"o\", \"markerfacecolor\":\"white\", \"markeredgecolor\":\"black\", \"markersize\":\"7.5\"})\n",
        "plt.xscale('log')"
      ],
      "execution_count": null,
      "outputs": []
    },
    {
      "cell_type": "code",
      "metadata": {
        "id": "JxIrJVAehyWX"
      },
      "source": [
        "plt.figure(figsize=(10,5))\n",
        "sns.kdeplot(data=apps, x='Installs', hue = 'Type', common_norm=False)\n",
        "plt.xscale('log')"
      ],
      "execution_count": null,
      "outputs": []
    },
    {
      "cell_type": "code",
      "metadata": {
        "id": "rZLpzeM6eDM_"
      },
      "source": [
        "print('The free app installs distribution has skewness of {}, and kurtosis of {}'.format(stats.describe(free['Installs'])[-2],stats.describe(free['Installs'])[-1]))\n",
        "print('The paid app installs distribution has skewness of {}, and kurtosis of {}'.format(stats.describe(paid['Installs'])[-2],stats.describe(paid['Installs'])[-1]))"
      ],
      "execution_count": null,
      "outputs": []
    },
    {
      "cell_type": "code",
      "metadata": {
        "id": "ixh41qbReDNA"
      },
      "source": [
        "print(stats.shapiro(free['Installs']))\n",
        "print(stats.shapiro(paid['Installs']))"
      ],
      "execution_count": null,
      "outputs": []
    },
    {
      "cell_type": "markdown",
      "metadata": {
        "id": "ZpqWF0mVeDNA"
      },
      "source": [
        "Both reviews distributions have a skew and kurtosis which are outside of the accepted range for normality. Both failed the Shapiro-Wilk test as well, so we can't use a regular t-test."
      ]
    },
    {
      "cell_type": "code",
      "metadata": {
        "id": "1N4cifqreDNA"
      },
      "source": [
        "stats.kruskal(free['Installs'], paid['Installs'])"
      ],
      "execution_count": null,
      "outputs": []
    },
    {
      "cell_type": "markdown",
      "metadata": {
        "id": "8Stmle2heDNA"
      },
      "source": [
        "Our p-value is <0.05, and so we can confirm that there is a statistically significant difference in the installs for free vs. paid apps."
      ]
    },
    {
      "cell_type": "code",
      "metadata": {
        "id": "-ZNX0qnx8eZM"
      },
      "source": [
        "t_installs = sample(5000, free, paid, 'Installs', 'Free Installs Avg', 'Paid Installs Avg')\n",
        "plt.figure(figsize=(10,5))\n",
        "t_installs.plot()"
      ],
      "execution_count": null,
      "outputs": []
    },
    {
      "cell_type": "code",
      "metadata": {
        "id": "54GQf4hB8eZN"
      },
      "source": [
        "plt.figure(figsize=(10,5))\n",
        "sample_replot(t_installs)"
      ],
      "execution_count": null,
      "outputs": []
    },
    {
      "cell_type": "markdown",
      "metadata": {
        "id": "0fYftlXFmQxM"
      },
      "source": [
        "Note: Even after taking 5000 random samples, the free installs data is still incredibly variable."
      ]
    },
    {
      "cell_type": "code",
      "metadata": {
        "id": "YbGQueMK8eZN"
      },
      "source": [
        "print('After randomly sampling 5000 times, the average difference between the two groups is {}'.format(round(abs(t_installs.iloc[-1][1] - t_installs.iloc[-1][0]))))"
      ],
      "execution_count": null,
      "outputs": []
    },
    {
      "cell_type": "markdown",
      "metadata": {
        "id": "TV41DgG9A1B_"
      },
      "source": [
        "This huge difference is probably accounted for by the fact that there are few paid apps which have very high installs, but there are a handful of free apps which have incredibly high installs that pull the average farther right."
      ]
    },
    {
      "cell_type": "markdown",
      "metadata": {
        "id": "mSZ-kbiChYHQ"
      },
      "source": [
        "## Identifying and Testing Best Performing App Type: RPI"
      ]
    },
    {
      "cell_type": "code",
      "metadata": {
        "id": "dyBzL4UEgEyX"
      },
      "source": [
        "plt.figure(figsize=(10,5))\n",
        "sns.boxplot(x=\"RPI\", y=\"Type\", data=apps, showmeans=True, meanprops={\"marker\":\"o\", \"markerfacecolor\":\"white\", \"markeredgecolor\":\"black\", \"markersize\":\"7.5\"})\n",
        "plt.xscale('log')"
      ],
      "execution_count": null,
      "outputs": []
    },
    {
      "cell_type": "code",
      "metadata": {
        "id": "QMXbIWu8heqR"
      },
      "source": [
        "plt.figure(figsize=(10,5))\n",
        "sns.kdeplot(data=apps, x=\"RPI\", hue = 'Type', common_norm=False)\n",
        "plt.xscale('log')"
      ],
      "execution_count": null,
      "outputs": []
    },
    {
      "cell_type": "code",
      "metadata": {
        "id": "shGmWrZseU8j"
      },
      "source": [
        "print('The free app RPI distribution has skewness of {}, and kurtosis of {}'.format(stats.describe(free['RPI'])[-2],stats.describe(free['RPI'])[-1]))\n",
        "print('The paid app RPI distribution has skewness of {}, and kurtosis of {}'.format(stats.describe(paid['RPI'])[-2],stats.describe(paid['RPI'])[-1]))"
      ],
      "execution_count": null,
      "outputs": []
    },
    {
      "cell_type": "code",
      "metadata": {
        "id": "EZhHGqL0eU8k"
      },
      "source": [
        "print(stats.shapiro(free['RPI']))\n",
        "print(stats.shapiro(paid['RPI']))"
      ],
      "execution_count": null,
      "outputs": []
    },
    {
      "cell_type": "markdown",
      "metadata": {
        "id": "8AupabZXeU8k"
      },
      "source": [
        "Both reviews distributions have a skew and kurtosis which are outside of the accepted range for normality. Both failed the Shapiro-Wilk test as well, so we can't use a regular t-test."
      ]
    },
    {
      "cell_type": "code",
      "metadata": {
        "id": "tgERKtOZeU8k"
      },
      "source": [
        "stats.kruskal(free['RPI'], paid['RPI'])"
      ],
      "execution_count": null,
      "outputs": []
    },
    {
      "cell_type": "markdown",
      "metadata": {
        "id": "yBYZaW0QeU8k"
      },
      "source": [
        "Our p-value is <0.05, and so we can confirm that there is a statistically significant difference in the RPI for free vs. paid apps."
      ]
    },
    {
      "cell_type": "code",
      "metadata": {
        "id": "taaSTFLE8_Lb"
      },
      "source": [
        "t_RPI = sample(5000, free, paid, 'RPI', 'Free RPI Avg', 'Paid RPI Avg')\n",
        "plt.figure(figsize=(10,5))\n",
        "t_RPI.plot()"
      ],
      "execution_count": null,
      "outputs": []
    },
    {
      "cell_type": "code",
      "metadata": {
        "id": "7ZUUFzfM8_Lc"
      },
      "source": [
        "plt.figure(figsize=(10,5))\n",
        "sample_replot(t_RPI)"
      ],
      "execution_count": null,
      "outputs": []
    },
    {
      "cell_type": "code",
      "metadata": {
        "id": "0BvF-S7N8_Lc"
      },
      "source": [
        "print('After randomly sampling 5000 times, the average difference between the two groups is {}'.format(t_RPI.iloc[-1][1] - t_RPI.iloc[-1][0]))"
      ],
      "execution_count": null,
      "outputs": []
    },
    {
      "cell_type": "code",
      "metadata": {
        "id": "0-eJU4BY3W6A"
      },
      "source": [
        "t_RPI_dif = t_RPI.iloc[-1][1] - t_RPI.iloc[-1][0]\n",
        "t_RPI_val = round((t_RPI_dif/t_RPI.iloc[-1][0])*100,2)"
      ],
      "execution_count": null,
      "outputs": []
    },
    {
      "cell_type": "code",
      "metadata": {
        "id": "llr9-lAv3W6B"
      },
      "source": [
        "print('While that number might not make sense on its own, this means that each installer of a Paid app was {}% more likely to write a review.'.format(t_RPI_val))"
      ],
      "execution_count": null,
      "outputs": []
    },
    {
      "cell_type": "markdown",
      "metadata": {
        "id": "W6rYb9cy_bL-"
      },
      "source": [
        "#Conclusions and Discussion"
      ]
    },
    {
      "cell_type": "markdown",
      "metadata": {
        "id": "KVmfObeiHkgW"
      },
      "source": [
        "Overall the app market is incredibly variable. There are thousands of apps which barely have any engagement at all, a few apps which are incredibly popular and tends to skew the data, and then all the other apps which fall somewhere betwen those two groups."
      ]
    },
    {
      "cell_type": "markdown",
      "metadata": {
        "id": "rRNIJRrGUihS"
      },
      "source": [
        "After going through our analyses, we have found the following:"
      ]
    },
    {
      "cell_type": "markdown",
      "metadata": {
        "id": "BC93fzAkcqS1"
      },
      "source": [
        "*   The Events category on average rates over 0.2 stars, or around 5% higher than other categories of apps. In this instance, we can reject the null hypothesis that there is no app category which statistically stands out in terms of rating."
      ]
    },
    {
      "cell_type": "markdown",
      "metadata": {
        "id": "JdVHLWdEctN-"
      },
      "source": [
        "*   The Communication category on average garners significantly more reviews (around 2 million) and installs (around 80 million) than other categories. We reject the null hypothesis that there is no app category which statistically stands out in terms of reviews and installs. It makes sense for communication to have the highest number of installs on average, as this group contains some of the largest and most popular apps on the market. While Social apps have the tech giants of Facebook, Instagram and Snapchat, Communication apps have Facebook Messenger, WhatsApp, Google Chrome, Gmail, Google Hangouts, Skype, Zoom, Viber, and many more apps at the top of the market. These apps really raise Communication apps' average compared to all other categories. This category also has around 300 apps on the market, while social is grouped together with all other apps in this study. In terms of reviews, the same argument could be made. Another thing to take note of is the high correlation between Installs and Reviews. This makes sense, since apps with higher installs have more users to review their app. We can see this correlation below."
      ]
    },
    {
      "cell_type": "code",
      "metadata": {
        "id": "Iui_XzyahrPi"
      },
      "source": [
        "plt.figure(figsize=(10,10))\n",
        "sns.regplot(x=\"Installs\", y=\"Reviews\", data=apps, color='black')"
      ],
      "execution_count": null,
      "outputs": []
    },
    {
      "cell_type": "code",
      "metadata": {
        "id": "XLdeU9jgjsyt"
      },
      "source": [
        "print('The correlation between Installs and Reviews is {}. If the installs weren\\'t set to certain ranges, the data would be more evenly spread out on the x-axis rather than on specific values. With this in mind, we can assume that the correlation is possibly higher than {}.'.format(round(stats.pearsonr(apps['Installs'], apps['Reviews'])[0], 2),round(stats.pearsonr(apps['Installs'], apps['Reviews'])[0], 2)))"
      ],
      "execution_count": null,
      "outputs": []
    },
    {
      "cell_type": "markdown",
      "metadata": {
        "id": "yWjhAD3TcumK"
      },
      "source": [
        "*   The Game category on average has a significantly higher RPI rate than other categories - Gaming apps had around a 60% higher RPI than other app categories (around a 6% review rate compared to under 4%). We reject the null hypothesis that there is no app category which stands out in terms of RPI. When we think about why this could be, Gaming apps often prompt users to write reviews - and often reward users with in-game perks. Users are incentivized to write reviews. The number of reviews relies on and is heavily correlated with install count (which we see above), and since Gaming apps don't have the highest average installs, it makes sense that this 60% increase in RPI might not push Games to have the highest reviews on average. Another possibility is that Games can elicit strong reactions, whether that is frustration or joy. People are more inclined to write a review when they feel stongly about a certain app. This could explain Gaming apps' higher RPI rate."
      ]
    },
    {
      "cell_type": "markdown",
      "metadata": {
        "id": "1HBbelCaddoa"
      },
      "source": [
        "*   The Everyone 10+ content rating doesn't rate any differently than other content ratings, the difference was negligible and not statistically significant. We can't reject the null hypothesis in this case."
      ]
    },
    {
      "cell_type": "markdown",
      "metadata": {
        "id": "J9gpligVfZj6"
      },
      "source": [
        "*   However, the Everyone 10+ content rating on average does get more reviews, installs, and has a higher RPI rate than other content ratings. Therefore we can reject our null hypothesis for those instances. The reasons for Everyone 10+ apps having a higher RPI rate and installs are unknown, but the relationship between installs and reviews can explain this content rating's success in terms of reviews. Everyone 10+ apps on average has around 1.3 million more reviews and installs on average, and an RPI of around 5%, compared to under 4% for other apps."
      ]
    },
    {
      "cell_type": "markdown",
      "metadata": {
        "id": "Ot0UIXNg03nn"
      },
      "source": [
        "*   In terms of app type, it seems that free apps tend to succeed significantly more than paid apps when it comes to reviews and installs. This makes sense, as the cost of paid apps is a deterrent when it comes to installs, and we have shown above that installs and reviews are related. Free apps have on average around 500,000 more reviews than paid apps, and around 20 million more installs. Another thing to note is that all of the most successful apps by reviews and installs (think Instagram, WhatsApp, etc.) are free, and none of those super popular apps are paid."
      ]
    },
    {
      "cell_type": "markdown",
      "metadata": {
        "id": "jhJI2Lb-1zUp"
      },
      "source": [
        "*   Paid apps on the other hand, succeed when it comes to rating and RPI. Paid apps on average rate just under 0.1 stars higher, which is around a 2% increase from free apps. When it comes to RPI, paid apps had around a 240% higher RPI compared to free apps. This is a huge difference - which makes sense. Users who install paid apps are generally more invested (more than just monetarily) in the product, and thus more likely to review it. "
      ]
    },
    {
      "cell_type": "markdown",
      "metadata": {
        "id": "FOBaba3qcBYs"
      },
      "source": [
        "#Future Work"
      ]
    },
    {
      "cell_type": "markdown",
      "metadata": {
        "id": "D8MwnJI8G_2P"
      },
      "source": [
        "I think that there is a lot of potential to expand on the analysis conducted in this study. The results found here would be of interest for app developers, as well as anybody interested in the relationships between app success and app data."
      ]
    },
    {
      "cell_type": "markdown",
      "metadata": {
        "id": "NtM9Eq_YYBNG"
      },
      "source": [
        "On top of the data I already collected, I think that it would also be very interesting to have data on each app's frequency of use, as well as the length of time from install to deletion - which could speak to an app's staying power. This data would have a lot to say about the users' behavior, which could yield compelling insights for app success."
      ]
    },
    {
      "cell_type": "markdown",
      "metadata": {
        "id": "u8Ffp3eOZEK8"
      },
      "source": [
        "Another addition to how I think that this data could have been improved would be if the data already collected was shown over time. If for each app I had all the cumulative data for multiple years, or possibly even month-to-month, I could assess which apps were merely fads, which apps spiked during certain times, and how certain apps grow in popularity."
      ]
    },
    {
      "cell_type": "markdown",
      "metadata": {
        "id": "akee8C4xV6FL"
      },
      "source": [
        "Something else that I wish I could have delved deeper into was app revenue. Since revenue is the true measure of app success, it would have been really interesting to find out how app revenue depends on other app factors. It would also be interesting to assess how that revenue is made - through advertisements, in-app purchases, or upfront app cost. I think that optimizing the balance between those three factors would be very pertinent information for people working in the tech field."
      ]
    },
    {
      "cell_type": "markdown",
      "metadata": {
        "id": "6cHL4FFeWidN"
      },
      "source": [
        "Another thing I would have liked to assess the psychological basis for the relationships between apps and their success. Finding out the psychological reasoning for why one app is more successful and attracts more interaction would be an interesting expansion of this project."
      ]
    },
    {
      "cell_type": "code",
      "metadata": {
        "id": "iQf39ihyE6XU",
        "colab": {
          "base_uri": "https://localhost:8080/",
          "height": 579
        },
        "outputId": "81e42ee1-8fb2-4beb-c7c3-f04de6f4d22f"
      },
      "source": [
        "corrmat_student = apps.corr()\n",
        "\n",
        "# Heat maps are a great way to get \n",
        "# a quick visual read on a big correlation matrix.\n",
        "\n",
        "plt.figure(figsize=(10,10))\n",
        "\n",
        "# Draw the heat map using seaborn\n",
        "sns.heatmap(corrmat_student, square=True, annot=True, linewidths=.5)\n",
        "plt.title(\"correlation matrix (Youtube)\")\n",
        "\n",
        "\n",
        "plt.show()"
      ],
      "execution_count": null,
      "outputs": [
        {
          "output_type": "display_data",
          "data": {
            "image/png": "[encoded data removed]",
            "text/plain": [
              "<Figure size 720x720 with 2 Axes>"
            ]
          },
          "metadata": {
            "tags": [],
            "needs_background": "light"
          }
        }
      ]
    },
    {
      "cell_type": "code",
      "metadata": {
        "id": "Euzgg5jkE8TY"
      },
      "source": [
        ""
      ],
      "execution_count": null,
      "outputs": []
    }
  ]
}